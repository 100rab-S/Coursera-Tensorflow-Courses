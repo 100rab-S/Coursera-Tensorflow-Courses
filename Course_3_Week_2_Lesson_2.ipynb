{
  "nbformat": 4,
  "nbformat_minor": 0,
  "metadata": {
    "accelerator": "GPU",
    "colab": {
      "name": "Course 3 - Week 2 - Lesson 2.ipynb",
      "provenance": [],
      "collapsed_sections": [],
      "include_colab_link": true
    },
    "kernelspec": {
      "display_name": "Python 3",
      "name": "python3"
    }
  },
  "cells": [
    {
      "cell_type": "markdown",
      "metadata": {
        "id": "view-in-github",
        "colab_type": "text"
      },
      "source": [
        "<a href=\"https://colab.research.google.com/github/100rab-S/Coursera-Tensorflow-Courses/blob/main/Course_3_Week_2_Lesson_2.ipynb\" target=\"_parent\"><img src=\"https://colab.research.google.com/assets/colab-badge.svg\" alt=\"Open In Colab\"/></a>"
      ]
    },
    {
      "cell_type": "code",
      "metadata": {
        "id": "zX4Kg8DUTKWO"
      },
      "source": [
        "#@title Licensed under the Apache License, Version 2.0 (the \"License\");\n",
        "# you may not use this file except in compliance with the License.\n",
        "# You may obtain a copy of the License at\n",
        "#\n",
        "# https://www.apache.org/licenses/LICENSE-2.0\n",
        "#\n",
        "# Unless required by applicable law or agreed to in writing, software\n",
        "# distributed under the License is distributed on an \"AS IS\" BASIS,\n",
        "# WITHOUT WARRANTIES OR CONDITIONS OF ANY KIND, either express or implied.\n",
        "# See the License for the specific language governing permissions and\n",
        "# limitations under the License."
      ],
      "execution_count": null,
      "outputs": []
    },
    {
      "cell_type": "markdown",
      "metadata": {
        "id": "view-in-github"
      },
      "source": [
        "<a href=\"https://colab.research.google.com/github/lmoroney/dlaicourse/blob/master/TensorFlow%20In%20Practice/Course%203%20-%20NLP/Course%203%20-%20Week%202%20-%20Lesson%202.ipynb\" target=\"_parent\"><img src=\"https://colab.research.google.com/assets/colab-badge.svg\" alt=\"Open In Colab\"/></a>"
      ]
    },
    {
      "cell_type": "code",
      "metadata": {
        "id": "4gs9htvM7n_x"
      },
      "source": [
        "# Run this to ensure TensorFlow 2.x is used\n",
        "try:\n",
        "  # %tensorflow_version only exists in Colab.\n",
        "  %tensorflow_version 2.x\n",
        "except Exception:\n",
        "  pass"
      ],
      "execution_count": null,
      "outputs": []
    },
    {
      "cell_type": "code",
      "metadata": {
        "id": "XYYDvoskkE61"
      },
      "source": [
        "import json\n",
        "import tensorflow as tf\n",
        "\n",
        "from tensorflow.keras.preprocessing.text import Tokenizer\n",
        "from tensorflow.keras.preprocessing.sequence import pad_sequences"
      ],
      "execution_count": null,
      "outputs": []
    },
    {
      "cell_type": "code",
      "metadata": {
        "id": "0eJSTTYnkJQd"
      },
      "source": [
        "vocab_size = 10000\n",
        "embedding_dim = 16\n",
        "max_length = 100\n",
        "trunc_type='post'\n",
        "padding_type='post'\n",
        "oov_tok = \"<OOV>\"\n",
        "training_size = 20000\n"
      ],
      "execution_count": null,
      "outputs": []
    },
    {
      "cell_type": "code",
      "metadata": {
        "colab": {
          "base_uri": "https://localhost:8080/"
        },
        "id": "BQVuQrZNkPn9",
        "outputId": "8b27d36a-a15a-4d7a-d75f-425fc8d9cb55"
      },
      "source": [
        "!wget --no-check-certificate \\\n",
        "    https://storage.googleapis.com/laurencemoroney-blog.appspot.com/sarcasm.json \\\n",
        "    -O /tmp/sarcasm.json\n"
      ],
      "execution_count": null,
      "outputs": [
        {
          "output_type": "stream",
          "text": [
            "--2021-04-21 16:00:01--  https://storage.googleapis.com/laurencemoroney-blog.appspot.com/sarcasm.json\n",
            "Resolving storage.googleapis.com (storage.googleapis.com)... 64.233.189.128, 108.177.97.128, 108.177.125.128, ...\n",
            "Connecting to storage.googleapis.com (storage.googleapis.com)|64.233.189.128|:443... connected.\n",
            "HTTP request sent, awaiting response... 200 OK\n",
            "Length: 5643545 (5.4M) [application/json]\n",
            "Saving to: ‘/tmp/sarcasm.json’\n",
            "\n",
            "\r/tmp/sarcasm.json     0%[                    ]       0  --.-KB/s               \r/tmp/sarcasm.json   100%[===================>]   5.38M  --.-KB/s    in 0.05s   \n",
            "\n",
            "2021-04-21 16:00:01 (116 MB/s) - ‘/tmp/sarcasm.json’ saved [5643545/5643545]\n",
            "\n"
          ],
          "name": "stdout"
        }
      ]
    },
    {
      "cell_type": "code",
      "metadata": {
        "id": "oaLaaqhNkUPd"
      },
      "source": [
        "with open(\"/tmp/sarcasm.json\", 'r') as f:\n",
        "    datastore = json.load(f)\n",
        "\n",
        "sentences = []\n",
        "labels = []\n",
        "\n",
        "for item in datastore:\n",
        "    sentences.append(item['headline'])\n",
        "    labels.append(item['is_sarcastic'])"
      ],
      "execution_count": null,
      "outputs": []
    },
    {
      "cell_type": "code",
      "metadata": {
        "id": "S1sD-7v0kYWk"
      },
      "source": [
        "training_sentences = sentences[0:training_size]\n",
        "testing_sentences = sentences[training_size:]\n",
        "training_labels = labels[0:training_size]\n",
        "testing_labels = labels[training_size:]"
      ],
      "execution_count": null,
      "outputs": []
    },
    {
      "cell_type": "code",
      "metadata": {
        "id": "3u8UB0MCkZ5N"
      },
      "source": [
        "tokenizer = Tokenizer(num_words=vocab_size, oov_token=oov_tok)\n",
        "tokenizer.fit_on_texts(training_sentences)\n",
        "\n",
        "word_index = tokenizer.word_index\n",
        "\n",
        "training_sequences = tokenizer.texts_to_sequences(training_sentences)\n",
        "training_padded = pad_sequences(training_sequences, maxlen=max_length, padding=padding_type, truncating=trunc_type)\n",
        "\n",
        "testing_sequences = tokenizer.texts_to_sequences(testing_sentences)\n",
        "testing_padded = pad_sequences(testing_sequences, maxlen=max_length, padding=padding_type, truncating=trunc_type)"
      ],
      "execution_count": null,
      "outputs": []
    },
    {
      "cell_type": "code",
      "metadata": {
        "id": "GrAlWBKf99Ya"
      },
      "source": [
        "# Need this block to get it to work with TensorFlow 2.x\n",
        "import numpy as np\n",
        "training_padded = np.array(training_padded)\n",
        "training_labels = np.array(training_labels)\n",
        "testing_padded = np.array(testing_padded)\n",
        "testing_labels = np.array(testing_labels)"
      ],
      "execution_count": null,
      "outputs": []
    },
    {
      "cell_type": "code",
      "metadata": {
        "id": "FufaT4vlkiDE"
      },
      "source": [
        "model = tf.keras.Sequential([\n",
        "    tf.keras.layers.Embedding(vocab_size, embedding_dim, input_length=max_length),\n",
        "    tf.keras.layers.GlobalAveragePooling1D(),\n",
        "    tf.keras.layers.Dense(24, activation='relu'),\n",
        "    tf.keras.layers.Dense(1, activation='sigmoid')\n",
        "])\n",
        "model.compile(loss='binary_crossentropy',optimizer='adam',metrics=['accuracy'])"
      ],
      "execution_count": null,
      "outputs": []
    },
    {
      "cell_type": "code",
      "metadata": {
        "colab": {
          "base_uri": "https://localhost:8080/"
        },
        "id": "XfDt1hmYkiys",
        "outputId": "b179811a-e85e-40be-8865-729f0e599900"
      },
      "source": [
        "model.summary()\n"
      ],
      "execution_count": null,
      "outputs": [
        {
          "output_type": "stream",
          "text": [
            "Model: \"sequential\"\n",
            "_________________________________________________________________\n",
            "Layer (type)                 Output Shape              Param #   \n",
            "=================================================================\n",
            "embedding (Embedding)        (None, 100, 16)           160000    \n",
            "_________________________________________________________________\n",
            "global_average_pooling1d (Gl (None, 16)                0         \n",
            "_________________________________________________________________\n",
            "dense (Dense)                (None, 24)                408       \n",
            "_________________________________________________________________\n",
            "dense_1 (Dense)              (None, 1)                 25        \n",
            "=================================================================\n",
            "Total params: 160,433\n",
            "Trainable params: 160,433\n",
            "Non-trainable params: 0\n",
            "_________________________________________________________________\n"
          ],
          "name": "stdout"
        }
      ]
    },
    {
      "cell_type": "code",
      "metadata": {
        "colab": {
          "base_uri": "https://localhost:8080/"
        },
        "id": "2DTKQFf1kkyc",
        "outputId": "edcda8fb-4bab-46c8-936b-6ea65443d86d"
      },
      "source": [
        "num_epochs = 30\n",
        "history = model.fit(training_padded, training_labels, epochs=num_epochs, validation_data=(testing_padded, testing_labels), verbose=2)"
      ],
      "execution_count": null,
      "outputs": [
        {
          "output_type": "stream",
          "text": [
            "Epoch 1/30\n",
            "625/625 - 6s - loss: 0.6687 - accuracy: 0.5903 - val_loss: 0.5921 - val_accuracy: 0.7989\n",
            "Epoch 2/30\n",
            "625/625 - 3s - loss: 0.4326 - accuracy: 0.8275 - val_loss: 0.3825 - val_accuracy: 0.8419\n",
            "Epoch 3/30\n",
            "625/625 - 3s - loss: 0.3099 - accuracy: 0.8763 - val_loss: 0.3502 - val_accuracy: 0.8541\n",
            "Epoch 4/30\n",
            "625/625 - 3s - loss: 0.2585 - accuracy: 0.8985 - val_loss: 0.3428 - val_accuracy: 0.8585\n",
            "Epoch 5/30\n",
            "625/625 - 3s - loss: 0.2213 - accuracy: 0.9154 - val_loss: 0.3446 - val_accuracy: 0.8538\n",
            "Epoch 6/30\n",
            "625/625 - 3s - loss: 0.1945 - accuracy: 0.9266 - val_loss: 0.3501 - val_accuracy: 0.8545\n",
            "Epoch 7/30\n",
            "625/625 - 3s - loss: 0.1725 - accuracy: 0.9352 - val_loss: 0.3654 - val_accuracy: 0.8533\n",
            "Epoch 8/30\n",
            "625/625 - 3s - loss: 0.1534 - accuracy: 0.9447 - val_loss: 0.3800 - val_accuracy: 0.8541\n",
            "Epoch 9/30\n",
            "625/625 - 3s - loss: 0.1378 - accuracy: 0.9495 - val_loss: 0.4018 - val_accuracy: 0.8502\n",
            "Epoch 10/30\n",
            "625/625 - 3s - loss: 0.1246 - accuracy: 0.9564 - val_loss: 0.4430 - val_accuracy: 0.8389\n",
            "Epoch 11/30\n",
            "625/625 - 3s - loss: 0.1134 - accuracy: 0.9599 - val_loss: 0.4539 - val_accuracy: 0.8432\n",
            "Epoch 12/30\n",
            "625/625 - 3s - loss: 0.1026 - accuracy: 0.9649 - val_loss: 0.5058 - val_accuracy: 0.8325\n",
            "Epoch 13/30\n",
            "625/625 - 3s - loss: 0.0944 - accuracy: 0.9672 - val_loss: 0.5002 - val_accuracy: 0.8413\n",
            "Epoch 14/30\n",
            "625/625 - 3s - loss: 0.0862 - accuracy: 0.9707 - val_loss: 0.5262 - val_accuracy: 0.8410\n",
            "Epoch 15/30\n",
            "625/625 - 3s - loss: 0.0796 - accuracy: 0.9740 - val_loss: 0.5537 - val_accuracy: 0.8390\n",
            "Epoch 16/30\n",
            "625/625 - 3s - loss: 0.0710 - accuracy: 0.9768 - val_loss: 0.5839 - val_accuracy: 0.8366\n",
            "Epoch 17/30\n",
            "625/625 - 3s - loss: 0.0650 - accuracy: 0.9789 - val_loss: 0.6195 - val_accuracy: 0.8323\n",
            "Epoch 18/30\n",
            "625/625 - 3s - loss: 0.0593 - accuracy: 0.9811 - val_loss: 0.6512 - val_accuracy: 0.8311\n",
            "Epoch 19/30\n",
            "625/625 - 3s - loss: 0.0555 - accuracy: 0.9822 - val_loss: 0.6840 - val_accuracy: 0.8289\n",
            "Epoch 20/30\n",
            "625/625 - 3s - loss: 0.0499 - accuracy: 0.9852 - val_loss: 0.7263 - val_accuracy: 0.8243\n",
            "Epoch 21/30\n",
            "625/625 - 3s - loss: 0.0466 - accuracy: 0.9851 - val_loss: 0.7612 - val_accuracy: 0.8225\n",
            "Epoch 22/30\n",
            "625/625 - 3s - loss: 0.0417 - accuracy: 0.9879 - val_loss: 0.8077 - val_accuracy: 0.8223\n",
            "Epoch 23/30\n",
            "625/625 - 3s - loss: 0.0390 - accuracy: 0.9885 - val_loss: 0.8276 - val_accuracy: 0.8216\n",
            "Epoch 24/30\n",
            "625/625 - 3s - loss: 0.0363 - accuracy: 0.9890 - val_loss: 0.8630 - val_accuracy: 0.8207\n",
            "Epoch 25/30\n",
            "625/625 - 3s - loss: 0.0343 - accuracy: 0.9893 - val_loss: 0.8991 - val_accuracy: 0.8207\n",
            "Epoch 26/30\n",
            "625/625 - 3s - loss: 0.0315 - accuracy: 0.9908 - val_loss: 0.9490 - val_accuracy: 0.8167\n",
            "Epoch 27/30\n",
            "625/625 - 3s - loss: 0.0295 - accuracy: 0.9912 - val_loss: 0.9875 - val_accuracy: 0.8153\n",
            "Epoch 28/30\n",
            "625/625 - 3s - loss: 0.0262 - accuracy: 0.9922 - val_loss: 1.0408 - val_accuracy: 0.8116\n",
            "Epoch 29/30\n",
            "625/625 - 3s - loss: 0.0243 - accuracy: 0.9934 - val_loss: 1.0559 - val_accuracy: 0.8117\n",
            "Epoch 30/30\n",
            "625/625 - 3s - loss: 0.0225 - accuracy: 0.9935 - val_loss: 1.1029 - val_accuracy: 0.8126\n"
          ],
          "name": "stdout"
        }
      ]
    },
    {
      "cell_type": "code",
      "metadata": {
        "id": "2HYfBKXjkmU8"
      },
      "source": [
        "import matplotlib.pyplot as plt\n",
        "\n",
        "\n",
        "def plot_graphs(history, string):\n",
        "  plt.plot(history.history[string])\n",
        "  plt.plot(history.history['val_'+string])\n",
        "  plt.xlabel(\"Epochs\")\n",
        "  plt.ylabel(string)\n",
        "  plt.legend([string, 'val_'+string])\n",
        "  plt.show()\n",
        "  \n",
        "plot_graphs(history, \"accuracy\")\n",
        "plot_graphs(history, \"loss\")"
      ],
      "execution_count": null,
      "outputs": []
    },
    {
      "cell_type": "code",
      "metadata": {
        "id": "7SBdAZAenvzL"
      },
      "source": [
        "reverse_word_index = dict([(value, key) for (key, value) in word_index.items()])\n",
        "\n",
        "def decode_sentence(text):\n",
        "    return ' '.join([reverse_word_index.get(i, '?') for i in text])\n",
        "\n",
        "print(decode_sentence(training_padded[0]))\n",
        "print(training_sentences[2])\n",
        "print(labels[2])"
      ],
      "execution_count": null,
      "outputs": []
    },
    {
      "cell_type": "code",
      "metadata": {
        "id": "c9MqihtEkzQ9"
      },
      "source": [
        "e = model.layers[0]\n",
        "weights = e.get_weights()[0]\n",
        "print(weights.shape) # shape: (vocab_size, embedding_dim)\n"
      ],
      "execution_count": null,
      "outputs": []
    },
    {
      "cell_type": "code",
      "metadata": {
        "id": "LoBXVffknldU"
      },
      "source": [
        "import io\n",
        "\n",
        "out_v = io.open('vecs.tsv', 'w', encoding='utf-8')\n",
        "out_m = io.open('meta.tsv', 'w', encoding='utf-8')\n",
        "for word_num in range(1, vocab_size):\n",
        "  word = reverse_word_index[word_num]\n",
        "  embeddings = weights[word_num]\n",
        "  out_m.write(word + \"\\n\")\n",
        "  out_v.write('\\t'.join([str(x) for x in embeddings]) + \"\\n\")\n",
        "out_v.close()\n",
        "out_m.close()"
      ],
      "execution_count": null,
      "outputs": []
    },
    {
      "cell_type": "code",
      "metadata": {
        "id": "U4eZ5HtVnnEE"
      },
      "source": [
        "try:\n",
        "  from google.colab import files\n",
        "except ImportError:\n",
        "  pass\n",
        "else:\n",
        "  files.download('vecs.tsv')\n",
        "  files.download('meta.tsv')"
      ],
      "execution_count": null,
      "outputs": []
    },
    {
      "cell_type": "code",
      "metadata": {
        "id": "cG8-ArY-qDcz"
      },
      "source": [
        "sentence = [\"granny starting to fear spiders in the garden might be real\", \"game of thrones season finale showing this sunday night\"]\n",
        "sequences = tokenizer.texts_to_sequences(sentence)\n",
        "padded = pad_sequences(sequences, maxlen=max_length, padding=padding_type, truncating=trunc_type)\n",
        "print(model.predict(padded))"
      ],
      "execution_count": null,
      "outputs": []
    }
  ]
}