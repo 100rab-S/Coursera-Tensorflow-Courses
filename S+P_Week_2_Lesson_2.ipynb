{
  "nbformat": 4,
  "nbformat_minor": 0,
  "metadata": {
    "colab": {
      "name": "S+P Week 2 Lesson 2.ipynb",
      "provenance": [],
      "include_colab_link": true
    },
    "kernelspec": {
      "display_name": "Python 3",
      "name": "python3"
    }
  },
  "cells": [
    {
      "cell_type": "markdown",
      "metadata": {
        "id": "view-in-github",
        "colab_type": "text"
      },
      "source": [
        "<a href=\"https://colab.research.google.com/github/100rab-S/Tensorflow-Developer-Certificate/blob/main/S%2BP_Week_2_Lesson_2.ipynb\" target=\"_parent\"><img src=\"https://colab.research.google.com/assets/colab-badge.svg\" alt=\"Open In Colab\"/></a>"
      ]
    },
    {
      "cell_type": "code",
      "metadata": {
        "id": "zX4Kg8DUTKWO"
      },
      "source": [
        "#@title Licensed under the Apache License, Version 2.0 (the \"License\");\n",
        "# you may not use this file except in compliance with the License.\n",
        "# You may obtain a copy of the License at\n",
        "#\n",
        "# https://www.apache.org/licenses/LICENSE-2.0\n",
        "#\n",
        "# Unless required by applicable law or agreed to in writing, software\n",
        "# distributed under the License is distributed on an \"AS IS\" BASIS,\n",
        "# WITHOUT WARRANTIES OR CONDITIONS OF ANY KIND, either express or implied.\n",
        "# See the License for the specific language governing permissions and\n",
        "# limitations under the License."
      ],
      "execution_count": null,
      "outputs": []
    },
    {
      "cell_type": "markdown",
      "metadata": {
        "id": "view-in-github"
      },
      "source": [
        "<a href=\"https://colab.research.google.com/github/lmoroney/dlaicourse/blob/master/TensorFlow%20In%20Practice/Course%204%20-%20S%2BP/S%2BP%20Week%202%20Lesson%202.ipynb\" target=\"_parent\"><img src=\"https://colab.research.google.com/assets/colab-badge.svg\" alt=\"Open In Colab\"/></a>"
      ]
    },
    {
      "cell_type": "code",
      "metadata": {
        "id": "-pwam8szRReT"
      },
      "source": [
        "try:\n",
        "  # %tensorflow_version only exists in Colab.\n",
        "  %tensorflow_version 2.x\n",
        "except Exception:\n",
        "  pass"
      ],
      "execution_count": null,
      "outputs": []
    },
    {
      "cell_type": "code",
      "metadata": {
        "id": "BOjujz601HcS",
        "colab": {
          "base_uri": "https://localhost:8080/"
        },
        "outputId": "7d7148a6-fad8-405d-a827-d46efa0e72ed"
      },
      "source": [
        "import tensorflow as tf\n",
        "import numpy as np\n",
        "import matplotlib.pyplot as plt\n",
        "print(tf.__version__)"
      ],
      "execution_count": 1,
      "outputs": [
        {
          "output_type": "stream",
          "text": [
            "2.4.1\n"
          ],
          "name": "stdout"
        }
      ]
    },
    {
      "cell_type": "code",
      "metadata": {
        "id": "Zswl7jRtGzkk"
      },
      "source": [
        "def plot_series(time, series, format=\"-\", start=0, end=None):\n",
        "    plt.plot(time[start:end], series[start:end], format)\n",
        "    plt.xlabel(\"Time\")\n",
        "    plt.ylabel(\"Value\")\n",
        "    plt.grid(True)\n",
        "\n",
        "def trend(time, slope=0):\n",
        "    return slope * time\n",
        "\n",
        "def seasonal_pattern(season_time):\n",
        "    \"\"\"Just an arbitrary pattern, you can change it if you wish\"\"\"\n",
        "    return np.where(season_time < 0.4,\n",
        "                    np.cos(season_time * 2 * np.pi),\n",
        "                    1 / np.exp(3 * season_time))\n",
        "\n",
        "def seasonality(time, period, amplitude=1, phase=0):\n",
        "    \"\"\"Repeats the same pattern at each period\"\"\"\n",
        "    season_time = ((time + phase) % period) / period\n",
        "    return amplitude * seasonal_pattern(season_time)\n",
        "\n",
        "def noise(time, noise_level=1, seed=None):\n",
        "    rnd = np.random.RandomState(seed)\n",
        "    return rnd.randn(len(time)) * noise_level\n",
        "\n",
        "time = np.arange(4 * 365 + 1, dtype=\"float32\")\n",
        "baseline = 10\n",
        "series = trend(time, 0.1)  \n",
        "baseline = 10\n",
        "amplitude = 40\n",
        "slope = 0.05\n",
        "noise_level = 5\n",
        "\n",
        "# Create the series\n",
        "series = baseline + trend(time, slope) + seasonality(time, period=365, amplitude=amplitude)\n",
        "# Update with noise\n",
        "series += noise(time, noise_level, seed=42)\n",
        "\n",
        "split_time = 1000\n",
        "time_train = time[:split_time]\n",
        "x_train = series[:split_time]\n",
        "time_valid = time[split_time:]\n",
        "x_valid = series[split_time:]\n",
        "\n",
        "window_size = 20\n",
        "batch_size = 32\n",
        "shuffle_buffer_size = 1000"
      ],
      "execution_count": 2,
      "outputs": []
    },
    {
      "cell_type": "code",
      "metadata": {
        "id": "4sTTIOCbyShY"
      },
      "source": [
        "def windowed_dataset(series, window_size, batch_size, shuffle_buffer):\n",
        "  dataset = tf.data.Dataset.from_tensor_slices(series)\n",
        "  dataset = dataset.window(window_size + 1, shift=1, drop_remainder=True)\n",
        "  dataset = dataset.flat_map(lambda window: window.batch(window_size + 1))\n",
        "  dataset = dataset.shuffle(shuffle_buffer).map(lambda window: (window[:-1], window[-1]))\n",
        "  dataset = dataset.batch(batch_size).prefetch(1)\n",
        "  return dataset"
      ],
      "execution_count": 3,
      "outputs": []
    },
    {
      "cell_type": "code",
      "metadata": {
        "id": "ou-WmE2AXu6B",
        "colab": {
          "base_uri": "https://localhost:8080/"
        },
        "outputId": "4592562f-7606-40f5-a9fa-af5cd073c4c9"
      },
      "source": [
        "dataset = windowed_dataset(x_train, window_size, batch_size, shuffle_buffer_size)\n",
        "print(dataset)\n",
        "l0 = tf.keras.layers.Dense(1, input_shape=[window_size])\n",
        "model = tf.keras.models.Sequential([l0])\n",
        "\n",
        "\n",
        "model.compile(loss=\"mse\", optimizer=tf.keras.optimizers.SGD(lr=1e-6, momentum=0.9))\n",
        "model.fit(dataset,epochs=100)\n",
        "\n",
        "print(\"Layer weights {}\".format(l0.get_weights()))\n"
      ],
      "execution_count": 4,
      "outputs": [
        {
          "output_type": "stream",
          "text": [
            "<PrefetchDataset shapes: ((None, None), (None,)), types: (tf.float32, tf.float32)>\n",
            "Epoch 1/100\n",
            "31/31 [==============================] - 1s 3ms/step - loss: 8658.9061\n",
            "Epoch 2/100\n",
            "31/31 [==============================] - 0s 2ms/step - loss: 379.9983\n",
            "Epoch 3/100\n",
            "31/31 [==============================] - 0s 2ms/step - loss: 133.1200\n",
            "Epoch 4/100\n",
            "31/31 [==============================] - 0s 2ms/step - loss: 116.5376\n",
            "Epoch 5/100\n",
            "31/31 [==============================] - 0s 1ms/step - loss: 106.3966\n",
            "Epoch 6/100\n",
            "31/31 [==============================] - 0s 1ms/step - loss: 105.3515\n",
            "Epoch 7/100\n",
            "31/31 [==============================] - 0s 2ms/step - loss: 89.3760\n",
            "Epoch 8/100\n",
            "31/31 [==============================] - 0s 2ms/step - loss: 89.7554\n",
            "Epoch 9/100\n",
            "31/31 [==============================] - 0s 2ms/step - loss: 91.4624\n",
            "Epoch 10/100\n",
            "31/31 [==============================] - 0s 2ms/step - loss: 90.7273\n",
            "Epoch 11/100\n",
            "31/31 [==============================] - 0s 2ms/step - loss: 84.3506\n",
            "Epoch 12/100\n",
            "31/31 [==============================] - 0s 2ms/step - loss: 87.5279\n",
            "Epoch 13/100\n",
            "31/31 [==============================] - 0s 3ms/step - loss: 83.1185\n",
            "Epoch 14/100\n",
            "31/31 [==============================] - 0s 2ms/step - loss: 75.9385\n",
            "Epoch 15/100\n",
            "31/31 [==============================] - 0s 1ms/step - loss: 70.4933\n",
            "Epoch 16/100\n",
            "31/31 [==============================] - 0s 2ms/step - loss: 73.3721\n",
            "Epoch 17/100\n",
            "31/31 [==============================] - 0s 2ms/step - loss: 82.7671\n",
            "Epoch 18/100\n",
            "31/31 [==============================] - 0s 2ms/step - loss: 73.7830\n",
            "Epoch 19/100\n",
            "31/31 [==============================] - 0s 2ms/step - loss: 68.0276\n",
            "Epoch 20/100\n",
            "31/31 [==============================] - 0s 2ms/step - loss: 70.5962\n",
            "Epoch 21/100\n",
            "31/31 [==============================] - 0s 2ms/step - loss: 69.8273\n",
            "Epoch 22/100\n",
            "31/31 [==============================] - 0s 2ms/step - loss: 69.7057\n",
            "Epoch 23/100\n",
            "31/31 [==============================] - 0s 2ms/step - loss: 71.2246\n",
            "Epoch 24/100\n",
            "31/31 [==============================] - 0s 2ms/step - loss: 70.9878\n",
            "Epoch 25/100\n",
            "31/31 [==============================] - 0s 3ms/step - loss: 64.5767\n",
            "Epoch 26/100\n",
            "31/31 [==============================] - 0s 2ms/step - loss: 67.1906\n",
            "Epoch 27/100\n",
            "31/31 [==============================] - 0s 2ms/step - loss: 64.3721\n",
            "Epoch 28/100\n",
            "31/31 [==============================] - 0s 2ms/step - loss: 54.1338\n",
            "Epoch 29/100\n",
            "31/31 [==============================] - 0s 2ms/step - loss: 63.2520\n",
            "Epoch 30/100\n",
            "31/31 [==============================] - 0s 2ms/step - loss: 68.8481\n",
            "Epoch 31/100\n",
            "31/31 [==============================] - 0s 2ms/step - loss: 74.2206\n",
            "Epoch 32/100\n",
            "31/31 [==============================] - 0s 1ms/step - loss: 60.5002\n",
            "Epoch 33/100\n",
            "31/31 [==============================] - 0s 3ms/step - loss: 60.0864\n",
            "Epoch 34/100\n",
            "31/31 [==============================] - 0s 2ms/step - loss: 60.3162\n",
            "Epoch 35/100\n",
            "31/31 [==============================] - 0s 2ms/step - loss: 52.4882\n",
            "Epoch 36/100\n",
            "31/31 [==============================] - 0s 2ms/step - loss: 54.6027\n",
            "Epoch 37/100\n",
            "31/31 [==============================] - 0s 2ms/step - loss: 60.5151\n",
            "Epoch 38/100\n",
            "31/31 [==============================] - 0s 2ms/step - loss: 54.8478\n",
            "Epoch 39/100\n",
            "31/31 [==============================] - 0s 1ms/step - loss: 49.4617\n",
            "Epoch 40/100\n",
            "31/31 [==============================] - 0s 2ms/step - loss: 50.9802\n",
            "Epoch 41/100\n",
            "31/31 [==============================] - 0s 2ms/step - loss: 54.7100\n",
            "Epoch 42/100\n",
            "31/31 [==============================] - 0s 2ms/step - loss: 49.3107\n",
            "Epoch 43/100\n",
            "31/31 [==============================] - 0s 2ms/step - loss: 48.6179\n",
            "Epoch 44/100\n",
            "31/31 [==============================] - 0s 2ms/step - loss: 52.4226\n",
            "Epoch 45/100\n",
            "31/31 [==============================] - 0s 2ms/step - loss: 55.4059\n",
            "Epoch 46/100\n",
            "31/31 [==============================] - 0s 2ms/step - loss: 58.1977\n",
            "Epoch 47/100\n",
            "31/31 [==============================] - 0s 2ms/step - loss: 51.3064\n",
            "Epoch 48/100\n",
            "31/31 [==============================] - 0s 2ms/step - loss: 49.8923\n",
            "Epoch 49/100\n",
            "31/31 [==============================] - 0s 3ms/step - loss: 51.8393\n",
            "Epoch 50/100\n",
            "31/31 [==============================] - 0s 1ms/step - loss: 46.2199\n",
            "Epoch 51/100\n",
            "31/31 [==============================] - 0s 2ms/step - loss: 53.7979\n",
            "Epoch 52/100\n",
            "31/31 [==============================] - 0s 2ms/step - loss: 52.9401\n",
            "Epoch 53/100\n",
            "31/31 [==============================] - 0s 3ms/step - loss: 55.0905\n",
            "Epoch 54/100\n",
            "31/31 [==============================] - 0s 2ms/step - loss: 55.6356\n",
            "Epoch 55/100\n",
            "31/31 [==============================] - 0s 2ms/step - loss: 47.9209\n",
            "Epoch 56/100\n",
            "31/31 [==============================] - 0s 2ms/step - loss: 44.9183\n",
            "Epoch 57/100\n",
            "31/31 [==============================] - 0s 3ms/step - loss: 45.8788\n",
            "Epoch 58/100\n",
            "31/31 [==============================] - 0s 2ms/step - loss: 47.4905\n",
            "Epoch 59/100\n",
            "31/31 [==============================] - 0s 2ms/step - loss: 51.6642\n",
            "Epoch 60/100\n",
            "31/31 [==============================] - 0s 2ms/step - loss: 45.8863\n",
            "Epoch 61/100\n",
            "31/31 [==============================] - 0s 2ms/step - loss: 46.4352\n",
            "Epoch 62/100\n",
            "31/31 [==============================] - 0s 3ms/step - loss: 47.5151\n",
            "Epoch 63/100\n",
            "31/31 [==============================] - 0s 2ms/step - loss: 47.4510\n",
            "Epoch 64/100\n",
            "31/31 [==============================] - 0s 2ms/step - loss: 45.5711\n",
            "Epoch 65/100\n",
            "31/31 [==============================] - 0s 2ms/step - loss: 43.3921\n",
            "Epoch 66/100\n",
            "31/31 [==============================] - 0s 2ms/step - loss: 47.2851\n",
            "Epoch 67/100\n",
            "31/31 [==============================] - 0s 2ms/step - loss: 51.6657\n",
            "Epoch 68/100\n",
            "31/31 [==============================] - 0s 2ms/step - loss: 42.9978\n",
            "Epoch 69/100\n",
            "31/31 [==============================] - 0s 2ms/step - loss: 45.4086\n",
            "Epoch 70/100\n",
            "31/31 [==============================] - 0s 2ms/step - loss: 47.9763\n",
            "Epoch 71/100\n",
            "31/31 [==============================] - 0s 2ms/step - loss: 57.5364\n",
            "Epoch 72/100\n",
            "31/31 [==============================] - 0s 2ms/step - loss: 48.3128\n",
            "Epoch 73/100\n",
            "31/31 [==============================] - 0s 2ms/step - loss: 45.9513\n",
            "Epoch 74/100\n",
            "31/31 [==============================] - 0s 2ms/step - loss: 46.4005\n",
            "Epoch 75/100\n",
            "31/31 [==============================] - 0s 2ms/step - loss: 45.0098\n",
            "Epoch 76/100\n",
            "31/31 [==============================] - 0s 2ms/step - loss: 43.0576\n",
            "Epoch 77/100\n",
            "31/31 [==============================] - 0s 2ms/step - loss: 43.9498\n",
            "Epoch 78/100\n",
            "31/31 [==============================] - 0s 2ms/step - loss: 46.1245\n",
            "Epoch 79/100\n",
            "31/31 [==============================] - 0s 2ms/step - loss: 43.9838\n",
            "Epoch 80/100\n",
            "31/31 [==============================] - 0s 1ms/step - loss: 46.8435\n",
            "Epoch 81/100\n",
            "31/31 [==============================] - 0s 2ms/step - loss: 48.0875\n",
            "Epoch 82/100\n",
            "31/31 [==============================] - 0s 2ms/step - loss: 45.5428\n",
            "Epoch 83/100\n",
            "31/31 [==============================] - 0s 2ms/step - loss: 48.6358\n",
            "Epoch 84/100\n",
            "31/31 [==============================] - 0s 2ms/step - loss: 41.9126\n",
            "Epoch 85/100\n",
            "31/31 [==============================] - 0s 2ms/step - loss: 41.7016\n",
            "Epoch 86/100\n",
            "31/31 [==============================] - 0s 2ms/step - loss: 45.5055\n",
            "Epoch 87/100\n",
            "31/31 [==============================] - 0s 2ms/step - loss: 51.1246\n",
            "Epoch 88/100\n",
            "31/31 [==============================] - 0s 2ms/step - loss: 44.3957\n",
            "Epoch 89/100\n",
            "31/31 [==============================] - 0s 2ms/step - loss: 42.8431\n",
            "Epoch 90/100\n",
            "31/31 [==============================] - 0s 2ms/step - loss: 50.2325\n",
            "Epoch 91/100\n",
            "31/31 [==============================] - 0s 3ms/step - loss: 48.9584\n",
            "Epoch 92/100\n",
            "31/31 [==============================] - 0s 2ms/step - loss: 41.4327\n",
            "Epoch 93/100\n",
            "31/31 [==============================] - 0s 1ms/step - loss: 43.4913\n",
            "Epoch 94/100\n",
            "31/31 [==============================] - 0s 3ms/step - loss: 43.0427\n",
            "Epoch 95/100\n",
            "31/31 [==============================] - 0s 2ms/step - loss: 42.3882\n",
            "Epoch 96/100\n",
            "31/31 [==============================] - 0s 2ms/step - loss: 40.1933\n",
            "Epoch 97/100\n",
            "31/31 [==============================] - 0s 2ms/step - loss: 43.0100\n",
            "Epoch 98/100\n",
            "31/31 [==============================] - 0s 2ms/step - loss: 45.9753\n",
            "Epoch 99/100\n",
            "31/31 [==============================] - 0s 2ms/step - loss: 46.3659\n",
            "Epoch 100/100\n",
            "31/31 [==============================] - 0s 3ms/step - loss: 48.1917\n",
            "Layer weights [array([[-0.0562187 ],\n",
            "       [ 0.05154325],\n",
            "       [ 0.01774655],\n",
            "       [-0.02835523],\n",
            "       [-0.00270671],\n",
            "       [ 0.0073855 ],\n",
            "       [ 0.01003026],\n",
            "       [-0.06006398],\n",
            "       [ 0.05019211],\n",
            "       [ 0.03429864],\n",
            "       [ 0.04103542],\n",
            "       [-0.0727323 ],\n",
            "       [-0.08858506],\n",
            "       [ 0.08201642],\n",
            "       [-0.01389899],\n",
            "       [ 0.1450208 ],\n",
            "       [ 0.02265492],\n",
            "       [ 0.10523907],\n",
            "       [ 0.2241122 ],\n",
            "       [ 0.50977474]], dtype=float32), array([0.01749704], dtype=float32)]\n"
          ],
          "name": "stdout"
        }
      ]
    },
    {
      "cell_type": "code",
      "metadata": {
        "id": "-gtVJuLVxR-M",
        "colab": {
          "base_uri": "https://localhost:8080/",
          "height": 388
        },
        "outputId": "73e7afc3-4d77-495b-b0e1-7255d53f1e2c"
      },
      "source": [
        "forecast = []\n",
        "\n",
        "for time in range(len(series) - window_size):\n",
        "  forecast.append(model.predict(series[time:time + window_size][np.newaxis])) # np.newaxis is used to match the input to the required input of the model.\n",
        "\n",
        "forecast = forecast[split_time-window_size:]\n",
        "results = np.array(forecast)[:, 0, 0]\n",
        "\n",
        "\n",
        "plt.figure(figsize=(10, 6))\n",
        "\n",
        "plot_series(time_valid, x_valid)\n",
        "plot_series(time_valid, results)"
      ],
      "execution_count": 5,
      "outputs": [
        {
          "output_type": "display_data",
          "data": {
            "image/png": "[encoded data removed]",
            "text/plain": [
              "<Figure size 720x432 with 1 Axes>"
            ]
          },
          "metadata": {
            "tags": [],
            "needs_background": "light"
          }
        }
      ]
    },
    {
      "cell_type": "code",
      "metadata": {
        "id": "hR2BO0Dai_ZT",
        "colab": {
          "base_uri": "https://localhost:8080/"
        },
        "outputId": "c9f59acd-c0e5-4fa7-cdd8-e352f6b55918"
      },
      "source": [
        "tf.keras.metrics.mean_absolute_error(x_valid, results).numpy()"
      ],
      "execution_count": 6,
      "outputs": [
        {
          "output_type": "execute_result",
          "data": {
            "text/plain": [
              "5.2308555"
            ]
          },
          "metadata": {
            "tags": []
          },
          "execution_count": 6
        }
      ]
    }
  ]
}
