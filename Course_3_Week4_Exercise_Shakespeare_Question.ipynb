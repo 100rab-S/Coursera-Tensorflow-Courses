{
  "nbformat": 4,
  "nbformat_minor": 0,
  "metadata": {
    "accelerator": "GPU",
    "colab": {
      "name": "Course 3  Week4_Exercise_Shakespeare_Question.ipynb",
      "provenance": [],
      "include_colab_link": true
    },
    "kernelspec": {
      "display_name": "Python 3",
      "name": "python3"
    }
  },
  "cells": [
    {
      "cell_type": "markdown",
      "metadata": {
        "id": "view-in-github",
        "colab_type": "text"
      },
      "source": [
        "<a href=\"https://colab.research.google.com/github/100rab-S/Tensorflow-Developer-Certificate/blob/main/Course_3_Week4_Exercise_Shakespeare_Question.ipynb\" target=\"_parent\"><img src=\"https://colab.research.google.com/assets/colab-badge.svg\" alt=\"Open In Colab\"/></a>"
      ]
    },
    {
      "cell_type": "code",
      "metadata": {
        "id": "zX4Kg8DUTKWO"
      },
      "source": [
        "#@title Licensed under the Apache License, Version 2.0 (the \"License\");\n",
        "# you may not use this file except in compliance with the License.\n",
        "# You may obtain a copy of the License at\n",
        "#\n",
        "# https://www.apache.org/licenses/LICENSE-2.0\n",
        "#\n",
        "# Unless required by applicable law or agreed to in writing, software\n",
        "# distributed under the License is distributed on an \"AS IS\" BASIS,\n",
        "# WITHOUT WARRANTIES OR CONDITIONS OF ANY KIND, either express or implied.\n",
        "# See the License for the specific language governing permissions and\n",
        "# limitations under the License."
      ],
      "execution_count": null,
      "outputs": []
    },
    {
      "cell_type": "code",
      "metadata": {
        "id": "BOwsuGQQY9OL"
      },
      "source": [
        "from tensorflow.keras.preprocessing.sequence import pad_sequences\n",
        "from tensorflow.keras.layers import Embedding, LSTM, Dense, Dropout, Bidirectional\n",
        "from tensorflow.keras.preprocessing.text import Tokenizer\n",
        "from tensorflow.keras.models import Sequential\n",
        "from tensorflow.keras.optimizers import Adam\n",
        "from tensorflow.keras import regularizers\n",
        "import tensorflow.keras.utils as ku \n",
        "import numpy as np "
      ],
      "execution_count": 3,
      "outputs": []
    },
    {
      "cell_type": "code",
      "metadata": {
        "id": "PRnDnCW-Z7qv",
        "colab": {
          "base_uri": "https://localhost:8080/"
        },
        "outputId": "fb1725f6-dd55-483c-cb17-55cb50e9f034"
      },
      "source": [
        "tokenizer = Tokenizer()\n",
        "!wget --no-check-certificate \\\n",
        "    https://storage.googleapis.com/laurencemoroney-blog.appspot.com/sonnets.txt \\\n",
        "    -O /tmp/sonnets.txt\n",
        "data = open('/tmp/sonnets.txt').read()\n",
        "\n",
        "corpus = data.lower().split(\"\\n\")\n",
        "\n",
        "\n",
        "tokenizer.fit_on_texts(corpus)\n",
        "total_words = len(tokenizer.word_index) + 1\n",
        "\n",
        "# create input sequences using list of tokens\n",
        "input_sequences = []\n",
        "for line in corpus:\n",
        "\ttoken_list = tokenizer.texts_to_sequences([line])[0]\n",
        "\tfor i in range(1, len(token_list)):\n",
        "\t\tn_gram_sequence = token_list[:i+1]\n",
        "\t\tinput_sequences.append(n_gram_sequence)\n",
        "\n",
        "\n",
        "# pad sequences \n",
        "max_sequence_len = max([len(x) for x in input_sequences])\n",
        "input_sequences = np.array(pad_sequences(input_sequences, maxlen=max_sequence_len, padding='pre'))\n",
        "\n",
        "# create predictors and label\n",
        "predictors, label = input_sequences[:,:-1],input_sequences[:,-1]\n",
        "\n",
        "label = ku.to_categorical(label, num_classes=total_words)"
      ],
      "execution_count": 2,
      "outputs": [
        {
          "output_type": "stream",
          "text": [
            "--2021-04-23 13:10:00--  https://storage.googleapis.com/laurencemoroney-blog.appspot.com/sonnets.txt\n",
            "Resolving storage.googleapis.com (storage.googleapis.com)... 172.217.12.240, 172.217.15.112, 142.250.81.208, ...\n",
            "Connecting to storage.googleapis.com (storage.googleapis.com)|172.217.12.240|:443... connected.\n",
            "HTTP request sent, awaiting response... 200 OK\n",
            "Length: 93578 (91K) [text/plain]\n",
            "Saving to: ‘/tmp/sonnets.txt’\n",
            "\n",
            "\r/tmp/sonnets.txt      0%[                    ]       0  --.-KB/s               \r/tmp/sonnets.txt    100%[===================>]  91.38K  --.-KB/s    in 0.001s  \n",
            "\n",
            "2021-04-23 13:10:00 (132 MB/s) - ‘/tmp/sonnets.txt’ saved [93578/93578]\n",
            "\n"
          ],
          "name": "stdout"
        }
      ]
    },
    {
      "cell_type": "code",
      "metadata": {
        "id": "w9vH8Y59ajYL",
        "colab": {
          "base_uri": "https://localhost:8080/"
        },
        "outputId": "3c190502-1717-473b-bfa8-5fad1399d225"
      },
      "source": [
        "model = Sequential()\n",
        "model.add(Embedding(total_words, 120, input_length=max_sequence_len-1))\n",
        "model.add(Bidirectional( LSTM(128, return_sequences=True)))\n",
        "model.add(Dropout(0.2))\n",
        "model.add(LSTM(64))\n",
        "model.add(Dense(512, activation = 'relu', kernel_regularizer=regularizers.L2()))\n",
        "model.add(Dense(total_words, activation = 'softmax'))\n",
        "\n",
        "model.compile(loss = 'categorical_crossentropy', optimizer = 'adam', metrics = ['accuracy'])\n",
        "print(model.summary())\n"
      ],
      "execution_count": 10,
      "outputs": [
        {
          "output_type": "stream",
          "text": [
            "Model: \"sequential_5\"\n",
            "_________________________________________________________________\n",
            "Layer (type)                 Output Shape              Param #   \n",
            "=================================================================\n",
            "embedding_5 (Embedding)      (None, 10, 120)           385320    \n",
            "_________________________________________________________________\n",
            "bidirectional_4 (Bidirection (None, 10, 256)           254976    \n",
            "_________________________________________________________________\n",
            "dropout_5 (Dropout)          (None, 10, 256)           0         \n",
            "_________________________________________________________________\n",
            "lstm_11 (LSTM)               (None, 64)                82176     \n",
            "_________________________________________________________________\n",
            "dense_10 (Dense)             (None, 512)               33280     \n",
            "_________________________________________________________________\n",
            "dense_11 (Dense)             (None, 3211)              1647243   \n",
            "=================================================================\n",
            "Total params: 2,402,995\n",
            "Trainable params: 2,402,995\n",
            "Non-trainable params: 0\n",
            "_________________________________________________________________\n",
            "None\n"
          ],
          "name": "stdout"
        }
      ]
    },
    {
      "cell_type": "code",
      "metadata": {
        "id": "AIg2f1HBxqof",
        "colab": {
          "base_uri": "https://localhost:8080/"
        },
        "outputId": "e56b15cc-7635-4d2f-cc42-232578c8892a"
      },
      "source": [
        " history = model.fit(predictors, label, epochs=100, verbose=1)"
      ],
      "execution_count": 11,
      "outputs": [
        {
          "output_type": "stream",
          "text": [
            "Epoch 1/100\n",
            "484/484 [==============================] - 40s 12ms/step - loss: 7.3240 - accuracy: 0.0205\n",
            "Epoch 2/100\n",
            "484/484 [==============================] - 6s 12ms/step - loss: 6.4802 - accuracy: 0.0211\n",
            "Epoch 3/100\n",
            "484/484 [==============================] - 6s 12ms/step - loss: 6.3950 - accuracy: 0.0230\n",
            "Epoch 4/100\n",
            "484/484 [==============================] - 6s 11ms/step - loss: 6.3131 - accuracy: 0.0265\n",
            "Epoch 5/100\n",
            "484/484 [==============================] - 6s 12ms/step - loss: 6.1792 - accuracy: 0.0318\n",
            "Epoch 6/100\n",
            "484/484 [==============================] - 6s 12ms/step - loss: 6.1566 - accuracy: 0.0340\n",
            "Epoch 7/100\n",
            "484/484 [==============================] - 6s 12ms/step - loss: 6.0904 - accuracy: 0.0390\n",
            "Epoch 8/100\n",
            "484/484 [==============================] - 6s 12ms/step - loss: 6.0262 - accuracy: 0.0402\n",
            "Epoch 9/100\n",
            "484/484 [==============================] - 6s 12ms/step - loss: 5.9450 - accuracy: 0.0394\n",
            "Epoch 10/100\n",
            "484/484 [==============================] - 6s 12ms/step - loss: 5.8900 - accuracy: 0.0463\n",
            "Epoch 11/100\n",
            "484/484 [==============================] - 6s 12ms/step - loss: 5.8267 - accuracy: 0.0501\n",
            "Epoch 12/100\n",
            "484/484 [==============================] - 6s 12ms/step - loss: 5.7613 - accuracy: 0.0490\n",
            "Epoch 13/100\n",
            "484/484 [==============================] - 6s 12ms/step - loss: 5.6714 - accuracy: 0.0532\n",
            "Epoch 14/100\n",
            "484/484 [==============================] - 6s 12ms/step - loss: 5.6208 - accuracy: 0.0550\n",
            "Epoch 15/100\n",
            "484/484 [==============================] - 6s 12ms/step - loss: 5.5484 - accuracy: 0.0549\n",
            "Epoch 16/100\n",
            "484/484 [==============================] - 6s 12ms/step - loss: 5.4683 - accuracy: 0.0653\n",
            "Epoch 17/100\n",
            "484/484 [==============================] - 6s 11ms/step - loss: 5.4081 - accuracy: 0.0682\n",
            "Epoch 18/100\n",
            "484/484 [==============================] - 6s 12ms/step - loss: 5.3628 - accuracy: 0.0679\n",
            "Epoch 19/100\n",
            "484/484 [==============================] - 6s 12ms/step - loss: 5.2960 - accuracy: 0.0720\n",
            "Epoch 20/100\n",
            "484/484 [==============================] - 6s 12ms/step - loss: 5.2309 - accuracy: 0.0796\n",
            "Epoch 21/100\n",
            "484/484 [==============================] - 6s 12ms/step - loss: 5.1827 - accuracy: 0.0831\n",
            "Epoch 22/100\n",
            "484/484 [==============================] - 6s 12ms/step - loss: 5.0847 - accuracy: 0.0872\n",
            "Epoch 23/100\n",
            "484/484 [==============================] - 6s 12ms/step - loss: 5.0585 - accuracy: 0.0907\n",
            "Epoch 24/100\n",
            "484/484 [==============================] - 6s 12ms/step - loss: 4.9715 - accuracy: 0.0900\n",
            "Epoch 25/100\n",
            "484/484 [==============================] - 6s 12ms/step - loss: 4.9518 - accuracy: 0.0979\n",
            "Epoch 26/100\n",
            "484/484 [==============================] - 6s 12ms/step - loss: 4.8440 - accuracy: 0.1066\n",
            "Epoch 27/100\n",
            "484/484 [==============================] - 6s 11ms/step - loss: 4.8173 - accuracy: 0.1105\n",
            "Epoch 28/100\n",
            "484/484 [==============================] - 6s 11ms/step - loss: 4.7425 - accuracy: 0.1167\n",
            "Epoch 29/100\n",
            "484/484 [==============================] - 6s 12ms/step - loss: 4.6951 - accuracy: 0.1298\n",
            "Epoch 30/100\n",
            "484/484 [==============================] - 6s 12ms/step - loss: 4.6325 - accuracy: 0.1300\n",
            "Epoch 31/100\n",
            "484/484 [==============================] - 6s 12ms/step - loss: 4.5981 - accuracy: 0.1305\n",
            "Epoch 32/100\n",
            "484/484 [==============================] - 6s 12ms/step - loss: 4.5520 - accuracy: 0.1324\n",
            "Epoch 33/100\n",
            "484/484 [==============================] - 6s 12ms/step - loss: 4.4618 - accuracy: 0.1417\n",
            "Epoch 34/100\n",
            "484/484 [==============================] - 6s 12ms/step - loss: 4.4296 - accuracy: 0.1486\n",
            "Epoch 35/100\n",
            "484/484 [==============================] - 6s 12ms/step - loss: 4.3797 - accuracy: 0.1535\n",
            "Epoch 36/100\n",
            "484/484 [==============================] - 6s 11ms/step - loss: 4.3133 - accuracy: 0.1644\n",
            "Epoch 37/100\n",
            "484/484 [==============================] - 6s 12ms/step - loss: 4.2701 - accuracy: 0.1657\n",
            "Epoch 38/100\n",
            "484/484 [==============================] - 6s 12ms/step - loss: 4.2005 - accuracy: 0.1765\n",
            "Epoch 39/100\n",
            "484/484 [==============================] - 6s 12ms/step - loss: 4.1655 - accuracy: 0.1769\n",
            "Epoch 40/100\n",
            "484/484 [==============================] - 6s 12ms/step - loss: 4.1212 - accuracy: 0.1890\n",
            "Epoch 41/100\n",
            "484/484 [==============================] - 6s 12ms/step - loss: 4.0653 - accuracy: 0.1973\n",
            "Epoch 42/100\n",
            "484/484 [==============================] - 6s 12ms/step - loss: 4.0239 - accuracy: 0.2050\n",
            "Epoch 43/100\n",
            "484/484 [==============================] - 6s 12ms/step - loss: 3.9617 - accuracy: 0.2094\n",
            "Epoch 44/100\n",
            "484/484 [==============================] - 6s 11ms/step - loss: 3.9268 - accuracy: 0.2147\n",
            "Epoch 45/100\n",
            "484/484 [==============================] - 6s 11ms/step - loss: 3.8895 - accuracy: 0.2237\n",
            "Epoch 46/100\n",
            "484/484 [==============================] - 5s 11ms/step - loss: 3.8507 - accuracy: 0.2322\n",
            "Epoch 47/100\n",
            "484/484 [==============================] - 5s 11ms/step - loss: 3.7598 - accuracy: 0.2491\n",
            "Epoch 48/100\n",
            "484/484 [==============================] - 5s 11ms/step - loss: 3.7485 - accuracy: 0.2567\n",
            "Epoch 49/100\n",
            "484/484 [==============================] - 5s 11ms/step - loss: 3.7115 - accuracy: 0.2620\n",
            "Epoch 50/100\n",
            "484/484 [==============================] - 6s 12ms/step - loss: 3.6925 - accuracy: 0.2649\n",
            "Epoch 51/100\n",
            "484/484 [==============================] - 6s 12ms/step - loss: 3.6498 - accuracy: 0.2698\n",
            "Epoch 52/100\n",
            "484/484 [==============================] - 5s 11ms/step - loss: 3.5961 - accuracy: 0.2793\n",
            "Epoch 53/100\n",
            "484/484 [==============================] - 5s 11ms/step - loss: 3.5777 - accuracy: 0.2890\n",
            "Epoch 54/100\n",
            "484/484 [==============================] - 6s 12ms/step - loss: 3.5457 - accuracy: 0.2935\n",
            "Epoch 55/100\n",
            "484/484 [==============================] - 6s 12ms/step - loss: 3.4836 - accuracy: 0.3076\n",
            "Epoch 56/100\n",
            "484/484 [==============================] - 6s 12ms/step - loss: 3.4349 - accuracy: 0.3121\n",
            "Epoch 57/100\n",
            "484/484 [==============================] - 6s 12ms/step - loss: 3.3993 - accuracy: 0.3277\n",
            "Epoch 58/100\n",
            "484/484 [==============================] - 6s 12ms/step - loss: 3.3632 - accuracy: 0.3323\n",
            "Epoch 59/100\n",
            "484/484 [==============================] - 6s 12ms/step - loss: 3.3597 - accuracy: 0.3316\n",
            "Epoch 60/100\n",
            "484/484 [==============================] - 6s 12ms/step - loss: 3.3005 - accuracy: 0.3450\n",
            "Epoch 61/100\n",
            "484/484 [==============================] - 6s 12ms/step - loss: 3.2693 - accuracy: 0.3525\n",
            "Epoch 62/100\n",
            "484/484 [==============================] - 6s 12ms/step - loss: 3.2260 - accuracy: 0.3713\n",
            "Epoch 63/100\n",
            "484/484 [==============================] - 6s 12ms/step - loss: 3.1967 - accuracy: 0.3699\n",
            "Epoch 64/100\n",
            "484/484 [==============================] - 6s 12ms/step - loss: 3.1561 - accuracy: 0.3750\n",
            "Epoch 65/100\n",
            "484/484 [==============================] - 6s 12ms/step - loss: 3.1174 - accuracy: 0.3862\n",
            "Epoch 66/100\n",
            "484/484 [==============================] - 6s 11ms/step - loss: 3.1266 - accuracy: 0.3865\n",
            "Epoch 67/100\n",
            "484/484 [==============================] - 5s 11ms/step - loss: 3.0774 - accuracy: 0.3880\n",
            "Epoch 68/100\n",
            "484/484 [==============================] - 5s 11ms/step - loss: 3.0389 - accuracy: 0.4057\n",
            "Epoch 69/100\n",
            "484/484 [==============================] - 6s 11ms/step - loss: 3.0017 - accuracy: 0.4139\n",
            "Epoch 70/100\n",
            "484/484 [==============================] - 6s 12ms/step - loss: 2.9645 - accuracy: 0.4175\n",
            "Epoch 71/100\n",
            "484/484 [==============================] - 6s 11ms/step - loss: 2.9057 - accuracy: 0.4365\n",
            "Epoch 72/100\n",
            "484/484 [==============================] - 6s 12ms/step - loss: 2.9196 - accuracy: 0.4188\n",
            "Epoch 73/100\n",
            "484/484 [==============================] - 6s 11ms/step - loss: 2.9207 - accuracy: 0.4238\n",
            "Epoch 74/100\n",
            "484/484 [==============================] - 6s 12ms/step - loss: 2.8808 - accuracy: 0.4355\n",
            "Epoch 75/100\n",
            "484/484 [==============================] - 6s 11ms/step - loss: 2.8621 - accuracy: 0.4392\n",
            "Epoch 76/100\n",
            "484/484 [==============================] - 6s 12ms/step - loss: 2.8181 - accuracy: 0.4422\n",
            "Epoch 77/100\n",
            "484/484 [==============================] - 6s 12ms/step - loss: 2.7896 - accuracy: 0.4555\n",
            "Epoch 78/100\n",
            "484/484 [==============================] - 6s 12ms/step - loss: 2.7436 - accuracy: 0.4678\n",
            "Epoch 79/100\n",
            "484/484 [==============================] - 6s 11ms/step - loss: 2.7104 - accuracy: 0.4723\n",
            "Epoch 80/100\n",
            "484/484 [==============================] - 5s 11ms/step - loss: 2.6983 - accuracy: 0.4747\n",
            "Epoch 81/100\n",
            "484/484 [==============================] - 6s 11ms/step - loss: 2.6792 - accuracy: 0.4824\n",
            "Epoch 82/100\n",
            "484/484 [==============================] - 6s 11ms/step - loss: 2.6667 - accuracy: 0.4845\n",
            "Epoch 83/100\n",
            "484/484 [==============================] - 5s 11ms/step - loss: 2.5770 - accuracy: 0.5081\n",
            "Epoch 84/100\n",
            "484/484 [==============================] - 5s 11ms/step - loss: 2.5869 - accuracy: 0.5052\n",
            "Epoch 85/100\n",
            "484/484 [==============================] - 6s 11ms/step - loss: 2.5586 - accuracy: 0.5085\n",
            "Epoch 86/100\n",
            "484/484 [==============================] - 5s 11ms/step - loss: 2.5498 - accuracy: 0.5138\n",
            "Epoch 87/100\n",
            "484/484 [==============================] - 6s 12ms/step - loss: 2.5157 - accuracy: 0.5148\n",
            "Epoch 88/100\n",
            "484/484 [==============================] - 6s 12ms/step - loss: 2.4919 - accuracy: 0.5211\n",
            "Epoch 89/100\n",
            "484/484 [==============================] - 6s 12ms/step - loss: 2.4764 - accuracy: 0.5219\n",
            "Epoch 90/100\n",
            "484/484 [==============================] - 6s 12ms/step - loss: 2.4697 - accuracy: 0.5277\n",
            "Epoch 91/100\n",
            "484/484 [==============================] - 6s 12ms/step - loss: 2.4279 - accuracy: 0.5370\n",
            "Epoch 92/100\n",
            "484/484 [==============================] - 6s 12ms/step - loss: 2.4057 - accuracy: 0.5426\n",
            "Epoch 93/100\n",
            "484/484 [==============================] - 6s 12ms/step - loss: 2.3511 - accuracy: 0.5527\n",
            "Epoch 94/100\n",
            "484/484 [==============================] - 6s 12ms/step - loss: 2.3681 - accuracy: 0.5468\n",
            "Epoch 95/100\n",
            "484/484 [==============================] - 6s 11ms/step - loss: 2.3537 - accuracy: 0.5502\n",
            "Epoch 96/100\n",
            "484/484 [==============================] - 6s 12ms/step - loss: 2.3019 - accuracy: 0.5540\n",
            "Epoch 97/100\n",
            "484/484 [==============================] - 6s 11ms/step - loss: 2.3077 - accuracy: 0.5594\n",
            "Epoch 98/100\n",
            "484/484 [==============================] - 6s 11ms/step - loss: 2.2611 - accuracy: 0.5763\n",
            "Epoch 99/100\n",
            "484/484 [==============================] - 6s 12ms/step - loss: 2.2626 - accuracy: 0.5688\n",
            "Epoch 100/100\n",
            "484/484 [==============================] - 6s 11ms/step - loss: 2.2458 - accuracy: 0.5763\n"
          ],
          "name": "stdout"
        }
      ]
    },
    {
      "cell_type": "code",
      "metadata": {
        "id": "1fXTEO3GJ282",
        "colab": {
          "base_uri": "https://localhost:8080/",
          "height": 545
        },
        "outputId": "1593e177-9a40-4ddd-87ed-ec96ff7b973d"
      },
      "source": [
        "import matplotlib.pyplot as plt\n",
        "acc = history.history['accuracy']\n",
        "loss = history.history['loss']\n",
        "\n",
        "epochs = range(len(acc))\n",
        "\n",
        "plt.plot(epochs, acc, 'b', label='Training accuracy')\n",
        "plt.title('Training accuracy')\n",
        "\n",
        "plt.figure()\n",
        "\n",
        "plt.plot(epochs, loss, 'b', label='Training Loss')\n",
        "plt.title('Training loss')\n",
        "plt.legend()\n",
        "\n",
        "plt.show()"
      ],
      "execution_count": 12,
      "outputs": [
        {
          "output_type": "display_data",
          "data": {
            "image/png": "[encoded data removed]",
            "text/plain": [
              "<Figure size 432x288 with 1 Axes>"
            ]
          },
          "metadata": {
            "tags": [],
            "needs_background": "light"
          }
        },
        {
          "output_type": "display_data",
          "data": {
            "image/png": "[encoded data removed]",
            "text/plain": [
              "<Figure size 432x288 with 1 Axes>"
            ]
          },
          "metadata": {
            "tags": [],
            "needs_background": "light"
          }
        }
      ]
    },
    {
      "cell_type": "code",
      "metadata": {
        "id": "6Vc6PHgxa6Hm",
        "colab": {
          "base_uri": "https://localhost:8080/"
        },
        "outputId": "25e40fc7-0460-4799-9d42-36ad9ada8ef2"
      },
      "source": [
        "seed_text = \"Help me Obi Wan Kenobi, you're my only hope\"\n",
        "next_words = 100\n",
        "  \n",
        "for _ in range(next_words):\n",
        "\ttoken_list = tokenizer.texts_to_sequences([seed_text])[0]\n",
        "\ttoken_list = pad_sequences([token_list], maxlen=max_sequence_len-1, padding='pre')\n",
        "\tpredicted = model.predict_classes(token_list, verbose=0)\n",
        "\toutput_word = \"\"\n",
        "\tfor word, index in tokenizer.word_index.items():\n",
        "\t\tif index == predicted:\n",
        "\t\t\toutput_word = word\n",
        "\t\t\tbreak\n",
        "\tseed_text += \" \" + output_word\n",
        "print(seed_text)"
      ],
      "execution_count": 13,
      "outputs": [
        {
          "output_type": "stream",
          "text": [
            "/usr/local/lib/python3.7/dist-packages/tensorflow/python/keras/engine/sequential.py:450: UserWarning: `model.predict_classes()` is deprecated and will be removed after 2021-01-01. Please use instead:* `np.argmax(model.predict(x), axis=-1)`,   if your model does multi-class classification   (e.g. if it uses a `softmax` last-layer activation).* `(model.predict(x) > 0.5).astype(\"int32\")`,   if your model does binary classification   (e.g. if it uses a `sigmoid` last-layer activation).\n",
            "  warnings.warn('`model.predict_classes()` is deprecated and '\n"
          ],
          "name": "stderr"
        },
        {
          "output_type": "stream",
          "text": [
            "Help me Obi Wan Kenobi, you're my only hope the world doth go away or eyes remain come end stay such bold your breast doth bear thee hearts did best sang find confounds deceased i see memory grow night up every dear state is the same imprint will die did stand still still thee thee me say thee for thine annoy blind hung in thee thee me forbid me hold thee for for thee new none desire for thee grown torn increase seen silent doting best doth youth for crime thee heart for thee night dost seen lie so it doth sing that her desire thee forth for dead\n"
          ],
          "name": "stdout"
        }
      ]
    }
  ]
}