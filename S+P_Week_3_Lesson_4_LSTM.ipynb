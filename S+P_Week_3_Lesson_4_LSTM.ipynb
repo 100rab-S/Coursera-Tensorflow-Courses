{
  "nbformat": 4,
  "nbformat_minor": 0,
  "metadata": {
    "colab": {
      "name": "S+P Week 3 Lesson 4 - LSTM.ipynb",
      "provenance": [],
      "collapsed_sections": [],
      "include_colab_link": true
    },
    "kernelspec": {
      "display_name": "Python 3",
      "name": "python3"
    },
    "accelerator": "GPU"
  },
  "cells": [
    {
      "cell_type": "markdown",
      "metadata": {
        "id": "view-in-github",
        "colab_type": "text"
      },
      "source": [
        "<a href=\"https://colab.research.google.com/github/100rab-S/Tensorflow-Developer-Certificate/blob/main/S%2BP_Week_3_Lesson_4_LSTM.ipynb\" target=\"_parent\"><img src=\"https://colab.research.google.com/assets/colab-badge.svg\" alt=\"Open In Colab\"/></a>"
      ]
    },
    {
      "cell_type": "code",
      "metadata": {
        "id": "zX4Kg8DUTKWO"
      },
      "source": [
        "#@title Licensed under the Apache License, Version 2.0 (the \"License\");\n",
        "# you may not use this file except in compliance with the License.\n",
        "# You may obtain a copy of the License at\n",
        "#\n",
        "# https://www.apache.org/licenses/LICENSE-2.0\n",
        "#\n",
        "# Unless required by applicable law or agreed to in writing, software\n",
        "# distributed under the License is distributed on an \"AS IS\" BASIS,\n",
        "# WITHOUT WARRANTIES OR CONDITIONS OF ANY KIND, either express or implied.\n",
        "# See the License for the specific language governing permissions and\n",
        "# limitations under the License."
      ],
      "execution_count": null,
      "outputs": []
    },
    {
      "cell_type": "code",
      "metadata": {
        "id": "D1J15Vh_1Jih"
      },
      "source": [
        "!pip install tf-nightly-2.0-preview\n"
      ],
      "execution_count": null,
      "outputs": []
    },
    {
      "cell_type": "code",
      "metadata": {
        "colab": {
          "base_uri": "https://localhost:8080/"
        },
        "id": "BOjujz601HcS",
        "outputId": "ed9a6cd1-b2d0-4b2b-a088-ebbd58d232b5"
      },
      "source": [
        "import tensorflow as tf\n",
        "import numpy as np\n",
        "import matplotlib.pyplot as plt\n",
        "print(tf.__version__)"
      ],
      "execution_count": 1,
      "outputs": [
        {
          "output_type": "stream",
          "text": [
            "2.4.1\n"
          ],
          "name": "stdout"
        }
      ]
    },
    {
      "cell_type": "code",
      "metadata": {
        "id": "Zswl7jRtGzkk"
      },
      "source": [
        "def plot_series(time, series, format=\"-\", start=0, end=None):\n",
        "    plt.plot(time[start:end], series[start:end], format)\n",
        "    plt.xlabel(\"Time\")\n",
        "    plt.ylabel(\"Value\")\n",
        "    plt.grid(True)\n",
        "\n",
        "def trend(time, slope=0):\n",
        "    return slope * time\n",
        "\n",
        "def seasonal_pattern(season_time):\n",
        "    \"\"\"Just an arbitrary pattern, you can change it if you wish\"\"\"\n",
        "    return np.where(season_time < 0.4,\n",
        "                    np.cos(season_time * 2 * np.pi),\n",
        "                    1 / np.exp(3 * season_time))\n",
        "\n",
        "def seasonality(time, period, amplitude=1, phase=0):\n",
        "    \"\"\"Repeats the same pattern at each period\"\"\"\n",
        "    season_time = ((time + phase) % period) / period\n",
        "    return amplitude * seasonal_pattern(season_time)\n",
        "\n",
        "def noise(time, noise_level=1, seed=None):\n",
        "    rnd = np.random.RandomState(seed)\n",
        "    return rnd.randn(len(time)) * noise_level\n",
        "\n",
        "time = np.arange(4 * 365 + 1, dtype=\"float32\")\n",
        "baseline = 10\n",
        "series = trend(time, 0.1)  \n",
        "baseline = 10\n",
        "amplitude = 40\n",
        "slope = 0.05\n",
        "noise_level = 5\n",
        "\n",
        "# Create the series\n",
        "series = baseline + trend(time, slope) + seasonality(time, period=365, amplitude=amplitude)\n",
        "# Update with noise\n",
        "series += noise(time, noise_level, seed=42)\n",
        "\n",
        "split_time = 1000\n",
        "time_train = time[:split_time]\n",
        "x_train = series[:split_time]\n",
        "time_valid = time[split_time:]\n",
        "x_valid = series[split_time:]\n",
        "\n",
        "window_size = 20\n",
        "batch_size = 32\n",
        "shuffle_buffer_size = 1000"
      ],
      "execution_count": 2,
      "outputs": []
    },
    {
      "cell_type": "code",
      "metadata": {
        "id": "4sTTIOCbyShY"
      },
      "source": [
        "def windowed_dataset(series, window_size, batch_size, shuffle_buffer):\n",
        "  dataset = tf.data.Dataset.from_tensor_slices(series)\n",
        "  dataset = dataset.window(window_size + 1, shift=1, drop_remainder=True)\n",
        "  dataset = dataset.flat_map(lambda window: window.batch(window_size + 1))\n",
        "  dataset = dataset.shuffle(shuffle_buffer).map(lambda window: (window[:-1], window[-1]))\n",
        "  dataset = dataset.batch(batch_size).prefetch(1)\n",
        "  return dataset"
      ],
      "execution_count": 3,
      "outputs": []
    },
    {
      "cell_type": "code",
      "metadata": {
        "colab": {
          "base_uri": "https://localhost:8080/"
        },
        "id": "A1Hl39rklkLm",
        "outputId": "4d9efbff-e9c3-448a-a9b9-277fcedfda1d"
      },
      "source": [
        "tf.keras.backend.clear_session()\n",
        "tf.random.set_seed(51)\n",
        "np.random.seed(51)\n",
        "\n",
        "tf.keras.backend.clear_session()\n",
        "dataset = windowed_dataset(x_train, window_size, batch_size, shuffle_buffer_size)\n",
        "\n",
        "model = tf.keras.models.Sequential([\n",
        "  tf.keras.layers.Lambda(lambda x: tf.expand_dims(x, axis=-1),\n",
        "                      input_shape=[None]),\n",
        "    tf.keras.layers.Bidirectional(tf.keras.layers.LSTM(32, return_sequences=True)),\n",
        "  tf.keras.layers.Bidirectional(tf.keras.layers.LSTM(32)),\n",
        "  tf.keras.layers.Dense(1),\n",
        "  tf.keras.layers.Lambda(lambda x: x * 100.0)\n",
        "])\n",
        "\n",
        "lr_schedule = tf.keras.callbacks.LearningRateScheduler(\n",
        "    lambda epoch: 1e-8 * 10**(epoch / 20))\n",
        "optimizer = tf.keras.optimizers.SGD(lr=1e-8, momentum=0.9)\n",
        "model.compile(loss=tf.keras.losses.Huber(),\n",
        "              optimizer=optimizer,\n",
        "              metrics=[\"mae\"])\n",
        "history = model.fit(dataset, epochs=100, callbacks=[lr_schedule])"
      ],
      "execution_count": 4,
      "outputs": [
        {
          "output_type": "stream",
          "text": [
            "Epoch 1/100\n",
            "31/31 [==============================] - 35s 23ms/step - loss: 21.9679 - mae: 22.4630\n",
            "Epoch 2/100\n",
            "31/31 [==============================] - 1s 21ms/step - loss: 21.0787 - mae: 21.5699\n",
            "Epoch 3/100\n",
            "31/31 [==============================] - 1s 22ms/step - loss: 19.9720 - mae: 20.4666\n",
            "Epoch 4/100\n",
            "31/31 [==============================] - 1s 21ms/step - loss: 20.5891 - mae: 21.0813\n",
            "Epoch 5/100\n",
            "31/31 [==============================] - 1s 22ms/step - loss: 20.2777 - mae: 20.7735\n",
            "Epoch 6/100\n",
            "31/31 [==============================] - 1s 21ms/step - loss: 19.6437 - mae: 20.1366\n",
            "Epoch 7/100\n",
            "31/31 [==============================] - 1s 22ms/step - loss: 18.2940 - mae: 18.7848\n",
            "Epoch 8/100\n",
            "31/31 [==============================] - 1s 21ms/step - loss: 17.2657 - mae: 17.7576\n",
            "Epoch 9/100\n",
            "31/31 [==============================] - 1s 22ms/step - loss: 17.4906 - mae: 17.9840\n",
            "Epoch 10/100\n",
            "31/31 [==============================] - 1s 22ms/step - loss: 16.8689 - mae: 17.3590\n",
            "Epoch 11/100\n",
            "31/31 [==============================] - 1s 22ms/step - loss: 16.4565 - mae: 16.9496\n",
            "Epoch 12/100\n",
            "31/31 [==============================] - 1s 22ms/step - loss: 16.1107 - mae: 16.6051\n",
            "Epoch 13/100\n",
            "31/31 [==============================] - 1s 21ms/step - loss: 15.9437 - mae: 16.4400\n",
            "Epoch 14/100\n",
            "31/31 [==============================] - 1s 22ms/step - loss: 16.2057 - mae: 16.7015\n",
            "Epoch 15/100\n",
            "31/31 [==============================] - 1s 22ms/step - loss: 16.2997 - mae: 16.7944\n",
            "Epoch 16/100\n",
            "31/31 [==============================] - 1s 21ms/step - loss: 15.2008 - mae: 15.6952\n",
            "Epoch 17/100\n",
            "31/31 [==============================] - 1s 21ms/step - loss: 14.6605 - mae: 15.1572\n",
            "Epoch 18/100\n",
            "31/31 [==============================] - 1s 22ms/step - loss: 14.7761 - mae: 15.2720\n",
            "Epoch 19/100\n",
            "31/31 [==============================] - 1s 21ms/step - loss: 14.4512 - mae: 14.9444\n",
            "Epoch 20/100\n",
            "31/31 [==============================] - 1s 21ms/step - loss: 14.5195 - mae: 15.0117\n",
            "Epoch 21/100\n",
            "31/31 [==============================] - 1s 21ms/step - loss: 13.5757 - mae: 14.0695\n",
            "Epoch 22/100\n",
            "31/31 [==============================] - 1s 22ms/step - loss: 13.5288 - mae: 14.0247\n",
            "Epoch 23/100\n",
            "31/31 [==============================] - 1s 22ms/step - loss: 12.7991 - mae: 13.2927\n",
            "Epoch 24/100\n",
            "31/31 [==============================] - 1s 21ms/step - loss: 12.9368 - mae: 13.4304\n",
            "Epoch 25/100\n",
            "31/31 [==============================] - 1s 21ms/step - loss: 13.4398 - mae: 13.9332\n",
            "Epoch 26/100\n",
            "31/31 [==============================] - 1s 21ms/step - loss: 12.5766 - mae: 13.0663\n",
            "Epoch 27/100\n",
            "31/31 [==============================] - 1s 22ms/step - loss: 12.4469 - mae: 12.9387\n",
            "Epoch 28/100\n",
            "31/31 [==============================] - 1s 21ms/step - loss: 12.0455 - mae: 12.5353\n",
            "Epoch 29/100\n",
            "31/31 [==============================] - 1s 22ms/step - loss: 11.7434 - mae: 12.2307\n",
            "Epoch 30/100\n",
            "31/31 [==============================] - 1s 21ms/step - loss: 12.1353 - mae: 12.6266\n",
            "Epoch 31/100\n",
            "31/31 [==============================] - 1s 21ms/step - loss: 10.5933 - mae: 11.0832\n",
            "Epoch 32/100\n",
            "31/31 [==============================] - 1s 22ms/step - loss: 11.3526 - mae: 11.8427\n",
            "Epoch 33/100\n",
            "31/31 [==============================] - 1s 21ms/step - loss: 10.6144 - mae: 11.1090\n",
            "Epoch 34/100\n",
            "31/31 [==============================] - 1s 22ms/step - loss: 10.3752 - mae: 10.8644\n",
            "Epoch 35/100\n",
            "31/31 [==============================] - 1s 21ms/step - loss: 10.0748 - mae: 10.5575\n",
            "Epoch 36/100\n",
            "31/31 [==============================] - 1s 21ms/step - loss: 10.4361 - mae: 10.9281\n",
            "Epoch 37/100\n",
            "31/31 [==============================] - 1s 21ms/step - loss: 10.2999 - mae: 10.7923\n",
            "Epoch 38/100\n",
            "31/31 [==============================] - 1s 21ms/step - loss: 9.4995 - mae: 9.9883\n",
            "Epoch 39/100\n",
            "31/31 [==============================] - 1s 21ms/step - loss: 9.0679 - mae: 9.5515\n",
            "Epoch 40/100\n",
            "31/31 [==============================] - 1s 22ms/step - loss: 8.1691 - mae: 8.6565\n",
            "Epoch 41/100\n",
            "31/31 [==============================] - 1s 22ms/step - loss: 8.4589 - mae: 8.9438\n",
            "Epoch 42/100\n",
            "31/31 [==============================] - 1s 22ms/step - loss: 7.7534 - mae: 8.2357\n",
            "Epoch 43/100\n",
            "31/31 [==============================] - 1s 22ms/step - loss: 7.4599 - mae: 7.9442\n",
            "Epoch 44/100\n",
            "31/31 [==============================] - 1s 22ms/step - loss: 7.1788 - mae: 7.6627\n",
            "Epoch 45/100\n",
            "31/31 [==============================] - 1s 22ms/step - loss: 7.2151 - mae: 7.7005\n",
            "Epoch 46/100\n",
            "31/31 [==============================] - 1s 22ms/step - loss: 6.7075 - mae: 7.1863\n",
            "Epoch 47/100\n",
            "31/31 [==============================] - 1s 22ms/step - loss: 6.8402 - mae: 7.3269\n",
            "Epoch 48/100\n",
            "31/31 [==============================] - 1s 22ms/step - loss: 6.3826 - mae: 6.8609\n",
            "Epoch 49/100\n",
            "31/31 [==============================] - 1s 21ms/step - loss: 6.1981 - mae: 6.6737\n",
            "Epoch 50/100\n",
            "31/31 [==============================] - 1s 21ms/step - loss: 6.1237 - mae: 6.6035\n",
            "Epoch 51/100\n",
            "31/31 [==============================] - 1s 21ms/step - loss: 5.9622 - mae: 6.4385\n",
            "Epoch 52/100\n",
            "31/31 [==============================] - 1s 21ms/step - loss: 5.5243 - mae: 6.0047\n",
            "Epoch 53/100\n",
            "31/31 [==============================] - 1s 21ms/step - loss: 5.9343 - mae: 6.4180\n",
            "Epoch 54/100\n",
            "31/31 [==============================] - 1s 21ms/step - loss: 5.4651 - mae: 5.9419\n",
            "Epoch 55/100\n",
            "31/31 [==============================] - 1s 21ms/step - loss: 5.5184 - mae: 5.9912\n",
            "Epoch 56/100\n",
            "31/31 [==============================] - 1s 22ms/step - loss: 5.0656 - mae: 5.5410\n",
            "Epoch 57/100\n",
            "31/31 [==============================] - 1s 21ms/step - loss: 5.2298 - mae: 5.7083\n",
            "Epoch 58/100\n",
            "31/31 [==============================] - 1s 21ms/step - loss: 5.5718 - mae: 6.0551\n",
            "Epoch 59/100\n",
            "31/31 [==============================] - 1s 22ms/step - loss: 5.2194 - mae: 5.6980\n",
            "Epoch 60/100\n",
            "31/31 [==============================] - 1s 22ms/step - loss: 5.0895 - mae: 5.5603\n",
            "Epoch 61/100\n",
            "31/31 [==============================] - 1s 21ms/step - loss: 5.2849 - mae: 5.7653\n",
            "Epoch 62/100\n",
            "31/31 [==============================] - 1s 22ms/step - loss: 5.3559 - mae: 5.8359\n",
            "Epoch 63/100\n",
            "31/31 [==============================] - 1s 21ms/step - loss: 5.0872 - mae: 5.5622\n",
            "Epoch 64/100\n",
            "31/31 [==============================] - 1s 22ms/step - loss: 4.9922 - mae: 5.4648\n",
            "Epoch 65/100\n",
            "31/31 [==============================] - 1s 21ms/step - loss: 4.9407 - mae: 5.4159\n",
            "Epoch 66/100\n",
            "31/31 [==============================] - 1s 22ms/step - loss: 5.5269 - mae: 6.0090\n",
            "Epoch 67/100\n",
            "31/31 [==============================] - 1s 22ms/step - loss: 6.0422 - mae: 6.5277\n",
            "Epoch 68/100\n",
            "31/31 [==============================] - 1s 21ms/step - loss: 4.9422 - mae: 5.4262\n",
            "Epoch 69/100\n",
            "31/31 [==============================] - 1s 22ms/step - loss: 5.8502 - mae: 6.3324\n",
            "Epoch 70/100\n",
            "31/31 [==============================] - 1s 22ms/step - loss: 4.9848 - mae: 5.4576\n",
            "Epoch 71/100\n",
            "31/31 [==============================] - 1s 22ms/step - loss: 5.3799 - mae: 5.8604\n",
            "Epoch 72/100\n",
            "31/31 [==============================] - 1s 21ms/step - loss: 5.5264 - mae: 6.0086\n",
            "Epoch 73/100\n",
            "31/31 [==============================] - 1s 21ms/step - loss: 6.7696 - mae: 7.2546\n",
            "Epoch 74/100\n",
            "31/31 [==============================] - 1s 21ms/step - loss: 5.5445 - mae: 6.0208\n",
            "Epoch 75/100\n",
            "31/31 [==============================] - 1s 21ms/step - loss: 5.1528 - mae: 5.6334\n",
            "Epoch 76/100\n",
            "31/31 [==============================] - 1s 22ms/step - loss: 5.5344 - mae: 6.0160\n",
            "Epoch 77/100\n",
            "31/31 [==============================] - 1s 21ms/step - loss: 6.2243 - mae: 6.7038\n",
            "Epoch 78/100\n",
            "31/31 [==============================] - 1s 21ms/step - loss: 5.2728 - mae: 5.7475\n",
            "Epoch 79/100\n",
            "31/31 [==============================] - 1s 21ms/step - loss: 5.8628 - mae: 6.3478\n",
            "Epoch 80/100\n",
            "31/31 [==============================] - 1s 21ms/step - loss: 8.1610 - mae: 8.6519\n",
            "Epoch 81/100\n",
            "31/31 [==============================] - 1s 21ms/step - loss: 5.5210 - mae: 6.0010\n",
            "Epoch 82/100\n",
            "31/31 [==============================] - 1s 22ms/step - loss: 5.6681 - mae: 6.1517\n",
            "Epoch 83/100\n",
            "31/31 [==============================] - 1s 22ms/step - loss: 5.9574 - mae: 6.4381\n",
            "Epoch 84/100\n",
            "31/31 [==============================] - 1s 21ms/step - loss: 5.3827 - mae: 5.8553\n",
            "Epoch 85/100\n",
            "31/31 [==============================] - 1s 22ms/step - loss: 8.2168 - mae: 8.7030\n",
            "Epoch 86/100\n",
            "31/31 [==============================] - 1s 22ms/step - loss: 7.0606 - mae: 7.5457\n",
            "Epoch 87/100\n",
            "31/31 [==============================] - 1s 21ms/step - loss: 6.4200 - mae: 6.9041\n",
            "Epoch 88/100\n",
            "31/31 [==============================] - 1s 22ms/step - loss: 5.4947 - mae: 5.9741\n",
            "Epoch 89/100\n",
            "31/31 [==============================] - 1s 21ms/step - loss: 7.5467 - mae: 8.0284\n",
            "Epoch 90/100\n",
            "31/31 [==============================] - 1s 21ms/step - loss: 6.8025 - mae: 7.2815\n",
            "Epoch 91/100\n",
            "31/31 [==============================] - 1s 22ms/step - loss: 7.4216 - mae: 7.9033\n",
            "Epoch 92/100\n",
            "31/31 [==============================] - 1s 21ms/step - loss: 9.2600 - mae: 9.7521\n",
            "Epoch 93/100\n",
            "31/31 [==============================] - 1s 22ms/step - loss: 8.6116 - mae: 9.1025\n",
            "Epoch 94/100\n",
            "31/31 [==============================] - 1s 22ms/step - loss: 7.3222 - mae: 7.8067\n",
            "Epoch 95/100\n",
            "31/31 [==============================] - 1s 21ms/step - loss: 8.5623 - mae: 9.0525\n",
            "Epoch 96/100\n",
            "31/31 [==============================] - 1s 21ms/step - loss: 7.5797 - mae: 8.0630\n",
            "Epoch 97/100\n",
            "31/31 [==============================] - 1s 21ms/step - loss: 7.5022 - mae: 7.9868\n",
            "Epoch 98/100\n",
            "31/31 [==============================] - 1s 21ms/step - loss: 10.0283 - mae: 10.5197\n",
            "Epoch 99/100\n",
            "31/31 [==============================] - 1s 21ms/step - loss: 15.0004 - mae: 15.4973\n",
            "Epoch 100/100\n",
            "31/31 [==============================] - 1s 22ms/step - loss: 12.0733 - mae: 12.5629\n"
          ],
          "name": "stdout"
        }
      ]
    },
    {
      "cell_type": "code",
      "metadata": {
        "colab": {
          "base_uri": "https://localhost:8080/",
          "height": 290
        },
        "id": "AkBsrsXMzoWR",
        "outputId": "38b6a180-8fdc-43b2-e24e-8eba24dc56ef"
      },
      "source": [
        "plt.semilogx(history.history[\"lr\"], history.history[\"loss\"])\n",
        "plt.axis([1e-8, 1e-4, 0, 30])"
      ],
      "execution_count": 5,
      "outputs": [
        {
          "output_type": "execute_result",
          "data": {
            "text/plain": [
              "(1e-08, 0.0001, 0.0, 30.0)"
            ]
          },
          "metadata": {
            "tags": []
          },
          "execution_count": 5
        },
        {
          "output_type": "display_data",
          "data": {
            "image/png": "[encoded data removed]",
            "text/plain": [
              "<Figure size 432x288 with 1 Axes>"
            ]
          },
          "metadata": {
            "tags": [],
            "needs_background": "light"
          }
        }
      ]
    },
    {
      "cell_type": "code",
      "metadata": {
        "id": "4uh-97bpLZCA"
      },
      "source": [
        "tf.keras.backend.clear_session()\n",
        "tf.random.set_seed(51)\n",
        "np.random.seed(51)\n",
        "\n",
        "tf.keras.backend.clear_session()\n",
        "dataset = windowed_dataset(x_train, window_size, batch_size, shuffle_buffer_size)\n",
        "\n",
        "model = tf.keras.models.Sequential([\n",
        "  tf.keras.layers.Lambda(lambda x: tf.expand_dims(x, axis=-1),\n",
        "                      input_shape=[None]),\n",
        "   tf.keras.layers.Bidirectional(tf.keras.layers.LSTM(32, return_sequences=True)),\n",
        "  tf.keras.layers.Bidirectional(tf.keras.layers.LSTM(32)),\n",
        "  tf.keras.layers.Dense(1),\n",
        "  tf.keras.layers.Lambda(lambda x: x * 100.0)\n",
        "])\n",
        "\n",
        "\n",
        "model.compile(loss=\"mse\", optimizer=tf.keras.optimizers.SGD(lr=1e-5, momentum=0.9),metrics=[\"mae\"])\n",
        "history = model.fit(dataset,epochs=50,verbose=0) # I have decreased the no. of epochs to save time or else try for 500+ epochs"
      ],
      "execution_count": 6,
      "outputs": []
    },
    {
      "cell_type": "code",
      "metadata": {
        "colab": {
          "base_uri": "https://localhost:8080/",
          "height": 388
        },
        "id": "icGDaND7z0ne",
        "outputId": "a5ed6bf6-4fb9-4e13-c2fb-9b8e3a279c5e"
      },
      "source": [
        "forecast = []\n",
        "results = []\n",
        "for time in range(len(series) - window_size):\n",
        "  forecast.append(model.predict(series[time:time + window_size][np.newaxis]))\n",
        "\n",
        "forecast = forecast[split_time-window_size:]\n",
        "results = np.array(forecast)[:, 0, 0]\n",
        "\n",
        "\n",
        "plt.figure(figsize=(10, 6))\n",
        "\n",
        "plot_series(time_valid, x_valid)\n",
        "plot_series(time_valid, results)"
      ],
      "execution_count": 7,
      "outputs": [
        {
          "output_type": "display_data",
          "data": {
            "image/png": "[encoded data removed]",
            "text/plain": [
              "<Figure size 720x432 with 1 Axes>"
            ]
          },
          "metadata": {
            "tags": [],
            "needs_background": "light"
          }
        }
      ]
    },
    {
      "cell_type": "code",
      "metadata": {
        "colab": {
          "base_uri": "https://localhost:8080/"
        },
        "id": "KfPeqI7rz4LD",
        "outputId": "c49434d8-4810-4b0e-eeb4-6a4cbd412118"
      },
      "source": [
        "tf.keras.metrics.mean_absolute_error(x_valid, results).numpy()"
      ],
      "execution_count": 8,
      "outputs": [
        {
          "output_type": "execute_result",
          "data": {
            "text/plain": [
              "11.49848"
            ]
          },
          "metadata": {
            "tags": []
          },
          "execution_count": 8
        }
      ]
    },
    {
      "cell_type": "code",
      "metadata": {
        "colab": {
          "base_uri": "https://localhost:8080/",
          "height": 607
        },
        "id": "JUsdZB_tzDLe",
        "outputId": "cfdeadbe-99e9-4110-c987-81bc06371020"
      },
      "source": [
        "import matplotlib.image  as mpimg\n",
        "import matplotlib.pyplot as plt\n",
        "\n",
        "#-----------------------------------------------------------\n",
        "# Retrieve a list of list results on training and test data\n",
        "# sets for each training epoch\n",
        "#-----------------------------------------------------------\n",
        "mae=history.history['mae']\n",
        "loss=history.history['loss']\n",
        "\n",
        "epochs=range(len(loss)) # Get number of epochs\n",
        "\n",
        "#------------------------------------------------\n",
        "# Plot MAE and Loss\n",
        "#------------------------------------------------\n",
        "plt.plot(epochs, mae, 'r')\n",
        "plt.plot(epochs, loss, 'b')\n",
        "plt.title('MAE and Loss')\n",
        "plt.xlabel(\"Epochs\")\n",
        "plt.ylabel(\"Accuracy\")\n",
        "plt.legend([\"MAE\", \"Loss\"])\n",
        "\n",
        "plt.figure()\n",
        "\n",
        "epochs_zoom = epochs[200:]\n",
        "mae_zoom = mae[200:]\n",
        "loss_zoom = loss[200:]\n",
        "\n",
        "#------------------------------------------------\n",
        "# Plot Zoomed MAE and Loss\n",
        "#------------------------------------------------\n",
        "plt.plot(epochs_zoom, mae_zoom, 'r')\n",
        "plt.plot(epochs_zoom, loss_zoom, 'b')\n",
        "plt.title('MAE and Loss')\n",
        "plt.xlabel(\"Epochs\")\n",
        "plt.ylabel(\"Accuracy\")\n",
        "plt.legend([\"MAE\", \"Loss\"])\n",
        "\n",
        "plt.figure()"
      ],
      "execution_count": 9,
      "outputs": [
        {
          "output_type": "execute_result",
          "data": {
            "text/plain": [
              "<Figure size 432x288 with 0 Axes>"
            ]
          },
          "metadata": {
            "tags": []
          },
          "execution_count": 9
        },
        {
          "output_type": "display_data",
          "data": {
            "image/png": "[encoded data removed]",
            "text/plain": [
              "<Figure size 432x288 with 1 Axes>"
            ]
          },
          "metadata": {
            "tags": [],
            "needs_background": "light"
          }
        },
        {
          "output_type": "display_data",
          "data": {
            "image/png": "[encoded data removed]",
            "text/plain": [
              "<Figure size 432x288 with 1 Axes>"
            ]
          },
          "metadata": {
            "tags": [],
            "needs_background": "light"
          }
        },
        {
          "output_type": "display_data",
          "data": {
            "text/plain": [
              "<Figure size 432x288 with 0 Axes>"
            ]
          },
          "metadata": {
            "tags": []
          }
        }
      ]
    },
    {
      "cell_type": "code",
      "metadata": {
        "id": "3CGaYFxXNEAK"
      },
      "source": [
        "tf.keras.backend.clear_session()\n",
        "dataset = windowed_dataset(x_train, window_size, batch_size, shuffle_buffer_size)\n",
        "\n",
        "model = tf.keras.models.Sequential([\n",
        "  tf.keras.layers.Lambda(lambda x: tf.expand_dims(x, axis=-1),\n",
        "                      input_shape=[None]),\n",
        "  tf.keras.layers.Bidirectional(tf.keras.layers.LSTM(32, return_sequences=True)),\n",
        "  tf.keras.layers.Bidirectional(tf.keras.layers.LSTM(32)),\n",
        "  tf.keras.layers.Dense(1),\n",
        "  tf.keras.layers.Lambda(lambda x: x * 100.0)\n",
        "])\n",
        "\n",
        "\n",
        "model.compile(loss=\"mse\", optimizer=tf.keras.optimizers.SGD(lr=1e-6, momentum=0.9))\n",
        "model.fit(dataset,epochs=100, verbose=0)"
      ],
      "execution_count": null,
      "outputs": []
    },
    {
      "cell_type": "code",
      "metadata": {
        "id": "FJ3R8ysauz9e"
      },
      "source": [
        "tf.keras.backend.clear_session()\n",
        "dataset = windowed_dataset(x_train, window_size, batch_size, shuffle_buffer_size)\n",
        "\n",
        "model = tf.keras.models.Sequential([\n",
        "  tf.keras.layers.Lambda(lambda x: tf.expand_dims(x, axis=-1),\n",
        "                      input_shape=[None]),\n",
        "  tf.keras.layers.Bidirectional(tf.keras.layers.LSTM(32, return_sequences=True)),\n",
        "  tf.keras.layers.Bidirectional(tf.keras.layers.LSTM(32, return_sequences=True)),\n",
        "  tf.keras.layers.Bidirectional(tf.keras.layers.LSTM(32)),\n",
        "  tf.keras.layers.Dense(1),\n",
        "  tf.keras.layers.Lambda(lambda x: x * 100.0)\n",
        "])\n",
        "\n",
        "\n",
        "model.compile(loss=\"mse\", optimizer=tf.keras.optimizers.SGD(lr=1e-6, momentum=0.9))\n",
        "model.fit(dataset,epochs=100)"
      ],
      "execution_count": null,
      "outputs": []
    }
  ]
}