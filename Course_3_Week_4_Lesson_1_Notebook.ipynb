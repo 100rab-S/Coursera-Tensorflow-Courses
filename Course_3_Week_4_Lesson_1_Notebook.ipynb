{
  "nbformat": 4,
  "nbformat_minor": 0,
  "metadata": {
    "accelerator": "GPU",
    "colab": {
      "name": "Course 3 - Week 4 - Lesson 1 - Notebook.ipynb",
      "provenance": [],
      "collapsed_sections": [],
      "include_colab_link": true
    },
    "kernelspec": {
      "display_name": "Python 3",
      "name": "python3"
    }
  },
  "cells": [
    {
      "cell_type": "markdown",
      "metadata": {
        "id": "view-in-github",
        "colab_type": "text"
      },
      "source": [
        "<a href=\"https://colab.research.google.com/github/100rab-S/Tensorflow-Developer-Certificate/blob/main/Course_3_Week_4_Lesson_1_Notebook.ipynb\" target=\"_parent\"><img src=\"https://colab.research.google.com/assets/colab-badge.svg\" alt=\"Open In Colab\"/></a>"
      ]
    },
    {
      "cell_type": "code",
      "metadata": {
        "id": "zX4Kg8DUTKWO"
      },
      "source": [
        "#@title Licensed under the Apache License, Version 2.0 (the \"License\");\n",
        "# you may not use this file except in compliance with the License.\n",
        "# You may obtain a copy of the License at\n",
        "#\n",
        "# https://www.apache.org/licenses/LICENSE-2.0\n",
        "#\n",
        "# Unless required by applicable law or agreed to in writing, software\n",
        "# distributed under the License is distributed on an \"AS IS\" BASIS,\n",
        "# WITHOUT WARRANTIES OR CONDITIONS OF ANY KIND, either express or implied.\n",
        "# See the License for the specific language governing permissions and\n",
        "# limitations under the License."
      ],
      "execution_count": null,
      "outputs": []
    },
    {
      "cell_type": "code",
      "metadata": {
        "id": "BOwsuGQQY9OL"
      },
      "source": [
        "import tensorflow as tf\n",
        "\n",
        "from tensorflow.keras.preprocessing.sequence import pad_sequences\n",
        "from tensorflow.keras.layers import Embedding, LSTM, Dense, Bidirectional\n",
        "from tensorflow.keras.preprocessing.text import Tokenizer\n",
        "from tensorflow.keras.models import Sequential\n",
        "from tensorflow.keras.optimizers import Adam\n",
        "import numpy as np "
      ],
      "execution_count": 1,
      "outputs": []
    },
    {
      "cell_type": "code",
      "metadata": {
        "id": "PRnDnCW-Z7qv",
        "colab": {
          "base_uri": "https://localhost:8080/"
        },
        "outputId": "c4ae4adf-68f9-4861-f816-401d32e013e2"
      },
      "source": [
        "tokenizer = Tokenizer()\n",
        "\n",
        "data=\"In the town of Athy one Jeremy Lanigan \\n Battered away til he hadnt a pound. \\nHis father died and made him a man again \\n Left him a farm and ten acres of ground. \\nHe gave a grand party for friends and relations \\nWho didnt forget him when come to the wall, \\nAnd if youll but listen Ill make your eyes glisten \\nOf the rows and the ructions of Lanigans Ball. \\nMyself to be sure got free invitation, \\nFor all the nice girls and boys I might ask, \\nAnd just in a minute both friends and relations \\nWere dancing round merry as bees round a cask. \\nJudy ODaly, that nice little milliner, \\nShe tipped me a wink for to give her a call, \\nAnd I soon arrived with Peggy McGilligan \\nJust in time for Lanigans Ball. \\nThere were lashings of punch and wine for the ladies, \\nPotatoes and cakes; there was bacon and tea, \\nThere were the Nolans, Dolans, OGradys \\nCourting the girls and dancing away. \\nSongs they went round as plenty as water, \\nThe harp that once sounded in Taras old hall,\\nSweet Nelly Gray and The Rat Catchers Daughter,\\nAll singing together at Lanigans Ball. \\nThey were doing all kinds of nonsensical polkas \\nAll round the room in a whirligig. \\nJulia and I, we banished their nonsense \\nAnd tipped them the twist of a reel and a jig. \\nAch mavrone, how the girls got all mad at me \\nDanced til youd think the ceiling would fall. \\nFor I spent three weeks at Brooks Academy \\nLearning new steps for Lanigans Ball. \\nThree long weeks I spent up in Dublin, \\nThree long weeks to learn nothing at all,\\n Three long weeks I spent up in Dublin, \\nLearning new steps for Lanigans Ball. \\nShe stepped out and I stepped in again, \\nI stepped out and she stepped in again, \\nShe stepped out and I stepped in again, \\nLearning new steps for Lanigans Ball. \\nBoys were all merry and the girls they were hearty \\nAnd danced all around in couples and groups, \\nTil an accident happened, young Terrance McCarthy \\nPut his right leg through miss Finnertys hoops. \\nPoor creature fainted and cried Meelia murther, \\nCalled for her brothers and gathered them all. \\nCarmody swore that hed go no further \\nTil he had satisfaction at Lanigans Ball. \\nIn the midst of the row miss Kerrigan fainted, \\nHer cheeks at the same time as red as a rose. \\nSome of the lads declared she was painted, \\nShe took a small drop too much, I suppose. \\nHer sweetheart, Ned Morgan, so powerful and able, \\nWhen he saw his fair colleen stretched out by the wall, \\nTore the left leg from under the table \\nAnd smashed all the Chaneys at Lanigans Ball. \\nBoys, oh boys, twas then there were runctions. \\nMyself got a lick from big Phelim McHugh. \\nI soon replied to his introduction \\nAnd kicked up a terrible hullabaloo. \\nOld Casey, the piper, was near being strangled. \\nThey squeezed up his pipes, bellows, chanters and all. \\nThe girls, in their ribbons, they got all entangled \\nAnd that put an end to Lanigans Ball.\"\n",
        "\n",
        "corpus = data.lower().split(\"\\n\")\n",
        "\n",
        "tokenizer.fit_on_texts(corpus)\n",
        "total_words = len(tokenizer.word_index) + 1\n",
        "\n",
        "print(tokenizer.word_index)\n",
        "print(total_words)\n"
      ],
      "execution_count": 2,
      "outputs": [
        {
          "output_type": "stream",
          "text": [
            "{'and': 1, 'the': 2, 'a': 3, 'in': 4, 'all': 5, 'i': 6, 'for': 7, 'of': 8, 'lanigans': 9, 'ball': 10, 'were': 11, 'at': 12, 'to': 13, 'she': 14, 'stepped': 15, 'his': 16, 'girls': 17, 'as': 18, 'they': 19, 'til': 20, 'he': 21, 'again': 22, 'got': 23, 'boys': 24, 'round': 25, 'that': 26, 'her': 27, 'there': 28, 'three': 29, 'weeks': 30, 'up': 31, 'out': 32, 'him': 33, 'was': 34, 'spent': 35, 'learning': 36, 'new': 37, 'steps': 38, 'long': 39, 'away': 40, 'left': 41, 'friends': 42, 'relations': 43, 'when': 44, 'wall': 45, 'myself': 46, 'nice': 47, 'just': 48, 'dancing': 49, 'merry': 50, 'tipped': 51, 'me': 52, 'soon': 53, 'time': 54, 'old': 55, 'their': 56, 'them': 57, 'danced': 58, 'dublin': 59, 'an': 60, 'put': 61, 'leg': 62, 'miss': 63, 'fainted': 64, 'from': 65, 'town': 66, 'athy': 67, 'one': 68, 'jeremy': 69, 'lanigan': 70, 'battered': 71, 'hadnt': 72, 'pound': 73, 'father': 74, 'died': 75, 'made': 76, 'man': 77, 'farm': 78, 'ten': 79, 'acres': 80, 'ground': 81, 'gave': 82, 'grand': 83, 'party': 84, 'who': 85, 'didnt': 86, 'forget': 87, 'come': 88, 'if': 89, 'youll': 90, 'but': 91, 'listen': 92, 'ill': 93, 'make': 94, 'your': 95, 'eyes': 96, 'glisten': 97, 'rows': 98, 'ructions': 99, 'be': 100, 'sure': 101, 'free': 102, 'invitation': 103, 'might': 104, 'ask': 105, 'minute': 106, 'both': 107, 'bees': 108, 'cask': 109, 'judy': 110, 'odaly': 111, 'little': 112, 'milliner': 113, 'wink': 114, 'give': 115, 'call': 116, 'arrived': 117, 'with': 118, 'peggy': 119, 'mcgilligan': 120, 'lashings': 121, 'punch': 122, 'wine': 123, 'ladies': 124, 'potatoes': 125, 'cakes': 126, 'bacon': 127, 'tea': 128, 'nolans': 129, 'dolans': 130, 'ogradys': 131, 'courting': 132, 'songs': 133, 'went': 134, 'plenty': 135, 'water': 136, 'harp': 137, 'once': 138, 'sounded': 139, 'taras': 140, 'hall': 141, 'sweet': 142, 'nelly': 143, 'gray': 144, 'rat': 145, 'catchers': 146, 'daughter': 147, 'singing': 148, 'together': 149, 'doing': 150, 'kinds': 151, 'nonsensical': 152, 'polkas': 153, 'room': 154, 'whirligig': 155, 'julia': 156, 'we': 157, 'banished': 158, 'nonsense': 159, 'twist': 160, 'reel': 161, 'jig': 162, 'ach': 163, 'mavrone': 164, 'how': 165, 'mad': 166, 'youd': 167, 'think': 168, 'ceiling': 169, 'would': 170, 'fall': 171, 'brooks': 172, 'academy': 173, 'learn': 174, 'nothing': 175, 'hearty': 176, 'around': 177, 'couples': 178, 'groups': 179, 'accident': 180, 'happened': 181, 'young': 182, 'terrance': 183, 'mccarthy': 184, 'right': 185, 'through': 186, 'finnertys': 187, 'hoops': 188, 'poor': 189, 'creature': 190, 'cried': 191, 'meelia': 192, 'murther': 193, 'called': 194, 'brothers': 195, 'gathered': 196, 'carmody': 197, 'swore': 198, 'hed': 199, 'go': 200, 'no': 201, 'further': 202, 'had': 203, 'satisfaction': 204, 'midst': 205, 'row': 206, 'kerrigan': 207, 'cheeks': 208, 'same': 209, 'red': 210, 'rose': 211, 'some': 212, 'lads': 213, 'declared': 214, 'painted': 215, 'took': 216, 'small': 217, 'drop': 218, 'too': 219, 'much': 220, 'suppose': 221, 'sweetheart': 222, 'ned': 223, 'morgan': 224, 'so': 225, 'powerful': 226, 'able': 227, 'saw': 228, 'fair': 229, 'colleen': 230, 'stretched': 231, 'by': 232, 'tore': 233, 'under': 234, 'table': 235, 'smashed': 236, 'chaneys': 237, 'oh': 238, 'twas': 239, 'then': 240, 'runctions': 241, 'lick': 242, 'big': 243, 'phelim': 244, 'mchugh': 245, 'replied': 246, 'introduction': 247, 'kicked': 248, 'terrible': 249, 'hullabaloo': 250, 'casey': 251, 'piper': 252, 'near': 253, 'being': 254, 'strangled': 255, 'squeezed': 256, 'pipes': 257, 'bellows': 258, 'chanters': 259, 'ribbons': 260, 'entangled': 261, 'end': 262}\n",
            "263\n"
          ],
          "name": "stdout"
        }
      ]
    },
    {
      "cell_type": "code",
      "metadata": {
        "id": "soPGVheskaQP"
      },
      "source": [
        "input_sequences = []\n",
        "for line in corpus:\n",
        "\ttoken_list = tokenizer.texts_to_sequences([line])[0]\n",
        "\tfor i in range(1, len(token_list)):\n",
        "\t\tn_gram_sequence = token_list[:i+1]\n",
        "\t\tinput_sequences.append(n_gram_sequence)\n",
        "\n",
        "# pad sequences \n",
        "max_sequence_len = max([len(x) for x in input_sequences])\n",
        "input_sequences = np.array(pad_sequences(input_sequences, maxlen=max_sequence_len, padding='pre'))\n",
        "\n",
        "# create predictors and label\n",
        "xs, labels = input_sequences[:,:-1],input_sequences[:,-1]\n",
        "\n",
        "ys = tf.keras.utils.to_categorical(labels, num_classes=total_words)"
      ],
      "execution_count": 29,
      "outputs": []
    },
    {
      "cell_type": "code",
      "metadata": {
        "id": "pJtwVB2NbOAP",
        "colab": {
          "base_uri": "https://localhost:8080/"
        },
        "outputId": "fa74dd4b-8d0e-4191-f92a-60487b76ce46"
      },
      "source": [
        "print(tokenizer.word_index['in'])\n",
        "print(tokenizer.word_index['the'])\n",
        "print(tokenizer.word_index['town'])\n",
        "print(tokenizer.word_index['of'])\n",
        "print(tokenizer.word_index['athy'])\n",
        "print(tokenizer.word_index['one'])\n",
        "print(tokenizer.word_index['jeremy'])\n",
        "print(tokenizer.word_index['lanigan'])"
      ],
      "execution_count": 33,
      "outputs": [
        {
          "output_type": "stream",
          "text": [
            "4\n",
            "2\n",
            "66\n",
            "8\n",
            "67\n",
            "68\n",
            "69\n",
            "70\n"
          ],
          "name": "stdout"
        }
      ]
    },
    {
      "cell_type": "code",
      "metadata": {
        "id": "49Cv68JOakwv",
        "colab": {
          "base_uri": "https://localhost:8080/"
        },
        "outputId": "21a712de-2272-4bf8-82ae-3a4b74a8b1cc"
      },
      "source": [
        "print(xs[6])"
      ],
      "execution_count": 34,
      "outputs": [
        {
          "output_type": "stream",
          "text": [
            "[ 0  0  0  4  2 66  8 67 68 69]\n"
          ],
          "name": "stdout"
        }
      ]
    },
    {
      "cell_type": "code",
      "metadata": {
        "id": "iY-jwvfgbEF8",
        "colab": {
          "base_uri": "https://localhost:8080/"
        },
        "outputId": "09d8e3f0-87a6-490a-b0a2-6e9cf20e6d4f"
      },
      "source": [
        "print(ys[6])"
      ],
      "execution_count": 35,
      "outputs": [
        {
          "output_type": "stream",
          "text": [
            "[0. 0. 0. 0. 0. 0. 0. 0. 0. 0. 0. 0. 0. 0. 0. 0. 0. 0. 0. 0. 0. 0. 0. 0.\n",
            " 0. 0. 0. 0. 0. 0. 0. 0. 0. 0. 0. 0. 0. 0. 0. 0. 0. 0. 0. 0. 0. 0. 0. 0.\n",
            " 0. 0. 0. 0. 0. 0. 0. 0. 0. 0. 0. 0. 0. 0. 0. 0. 0. 0. 0. 0. 0. 0. 1. 0.\n",
            " 0. 0. 0. 0. 0. 0. 0. 0. 0. 0. 0. 0. 0. 0. 0. 0. 0. 0. 0. 0. 0. 0. 0. 0.\n",
            " 0. 0. 0. 0. 0. 0. 0. 0. 0. 0. 0. 0. 0. 0. 0. 0. 0. 0. 0. 0. 0. 0. 0. 0.\n",
            " 0. 0. 0. 0. 0. 0. 0. 0. 0. 0. 0. 0. 0. 0. 0. 0. 0. 0. 0. 0. 0. 0. 0. 0.\n",
            " 0. 0. 0. 0. 0. 0. 0. 0. 0. 0. 0. 0. 0. 0. 0. 0. 0. 0. 0. 0. 0. 0. 0. 0.\n",
            " 0. 0. 0. 0. 0. 0. 0. 0. 0. 0. 0. 0. 0. 0. 0. 0. 0. 0. 0. 0. 0. 0. 0. 0.\n",
            " 0. 0. 0. 0. 0. 0. 0. 0. 0. 0. 0. 0. 0. 0. 0. 0. 0. 0. 0. 0. 0. 0. 0. 0.\n",
            " 0. 0. 0. 0. 0. 0. 0. 0. 0. 0. 0. 0. 0. 0. 0. 0. 0. 0. 0. 0. 0. 0. 0. 0.\n",
            " 0. 0. 0. 0. 0. 0. 0. 0. 0. 0. 0. 0. 0. 0. 0. 0. 0. 0. 0. 0. 0. 0. 0.]\n"
          ],
          "name": "stdout"
        }
      ]
    },
    {
      "cell_type": "code",
      "metadata": {
        "id": "wtzlUMYadhKt",
        "colab": {
          "base_uri": "https://localhost:8080/"
        },
        "outputId": "f29b863f-b763-4664-d3e8-1710bc8871ed"
      },
      "source": [
        "print(xs[5])\n",
        "print(ys[5])"
      ],
      "execution_count": 36,
      "outputs": [
        {
          "output_type": "stream",
          "text": [
            "[ 0  0  0  0  4  2 66  8 67 68]\n",
            "[0. 0. 0. 0. 0. 0. 0. 0. 0. 0. 0. 0. 0. 0. 0. 0. 0. 0. 0. 0. 0. 0. 0. 0.\n",
            " 0. 0. 0. 0. 0. 0. 0. 0. 0. 0. 0. 0. 0. 0. 0. 0. 0. 0. 0. 0. 0. 0. 0. 0.\n",
            " 0. 0. 0. 0. 0. 0. 0. 0. 0. 0. 0. 0. 0. 0. 0. 0. 0. 0. 0. 0. 0. 1. 0. 0.\n",
            " 0. 0. 0. 0. 0. 0. 0. 0. 0. 0. 0. 0. 0. 0. 0. 0. 0. 0. 0. 0. 0. 0. 0. 0.\n",
            " 0. 0. 0. 0. 0. 0. 0. 0. 0. 0. 0. 0. 0. 0. 0. 0. 0. 0. 0. 0. 0. 0. 0. 0.\n",
            " 0. 0. 0. 0. 0. 0. 0. 0. 0. 0. 0. 0. 0. 0. 0. 0. 0. 0. 0. 0. 0. 0. 0. 0.\n",
            " 0. 0. 0. 0. 0. 0. 0. 0. 0. 0. 0. 0. 0. 0. 0. 0. 0. 0. 0. 0. 0. 0. 0. 0.\n",
            " 0. 0. 0. 0. 0. 0. 0. 0. 0. 0. 0. 0. 0. 0. 0. 0. 0. 0. 0. 0. 0. 0. 0. 0.\n",
            " 0. 0. 0. 0. 0. 0. 0. 0. 0. 0. 0. 0. 0. 0. 0. 0. 0. 0. 0. 0. 0. 0. 0. 0.\n",
            " 0. 0. 0. 0. 0. 0. 0. 0. 0. 0. 0. 0. 0. 0. 0. 0. 0. 0. 0. 0. 0. 0. 0. 0.\n",
            " 0. 0. 0. 0. 0. 0. 0. 0. 0. 0. 0. 0. 0. 0. 0. 0. 0. 0. 0. 0. 0. 0. 0.]\n"
          ],
          "name": "stdout"
        }
      ]
    },
    {
      "cell_type": "code",
      "metadata": {
        "id": "w9vH8Y59ajYL",
        "colab": {
          "base_uri": "https://localhost:8080/"
        },
        "outputId": "d9219a91-7786-47e6-fbea-8702bc0a3c5c"
      },
      "source": [
        "  model = Sequential()\n",
        "  model.add(Embedding(total_words, 64, input_length=max_sequence_len-1))\n",
        "  model.add(Bidirectional(LSTM(20)))\n",
        "  model.add(Dense(total_words, activation='softmax'))\n",
        "  model.compile(loss='categorical_crossentropy', optimizer='adam', metrics=['accuracy'])\n",
        "  history = model.fit(xs, ys, epochs=200, verbose=1)\n"
      ],
      "execution_count": 39,
      "outputs": [
        {
          "output_type": "stream",
          "text": [
            "Epoch 1/200\n",
            "15/15 [==============================] - 34s 6ms/step - loss: 5.5692 - accuracy: 0.0227\n",
            "Epoch 2/200\n",
            "15/15 [==============================] - 0s 6ms/step - loss: 5.5487 - accuracy: 0.0447\n",
            "Epoch 3/200\n",
            "15/15 [==============================] - 0s 6ms/step - loss: 5.4988 - accuracy: 0.0482\n",
            "Epoch 4/200\n",
            "15/15 [==============================] - 0s 6ms/step - loss: 5.3624 - accuracy: 0.0428\n",
            "Epoch 5/200\n",
            "15/15 [==============================] - 0s 6ms/step - loss: 5.1565 - accuracy: 0.0543\n",
            "Epoch 6/200\n",
            "15/15 [==============================] - 0s 6ms/step - loss: 5.0873 - accuracy: 0.0430\n",
            "Epoch 7/200\n",
            "15/15 [==============================] - 0s 6ms/step - loss: 4.9962 - accuracy: 0.0598\n",
            "Epoch 8/200\n",
            "15/15 [==============================] - 0s 6ms/step - loss: 5.0335 - accuracy: 0.0525\n",
            "Epoch 9/200\n",
            "15/15 [==============================] - 0s 6ms/step - loss: 4.9900 - accuracy: 0.0414\n",
            "Epoch 10/200\n",
            "15/15 [==============================] - 0s 6ms/step - loss: 4.8665 - accuracy: 0.0767\n",
            "Epoch 11/200\n",
            "15/15 [==============================] - 0s 6ms/step - loss: 4.8625 - accuracy: 0.0734\n",
            "Epoch 12/200\n",
            "15/15 [==============================] - 0s 6ms/step - loss: 4.8361 - accuracy: 0.0666\n",
            "Epoch 13/200\n",
            "15/15 [==============================] - 0s 6ms/step - loss: 4.7736 - accuracy: 0.0796\n",
            "Epoch 14/200\n",
            "15/15 [==============================] - 0s 6ms/step - loss: 4.7563 - accuracy: 0.0603\n",
            "Epoch 15/200\n",
            "15/15 [==============================] - 0s 6ms/step - loss: 4.7045 - accuracy: 0.0736\n",
            "Epoch 16/200\n",
            "15/15 [==============================] - 0s 6ms/step - loss: 4.6643 - accuracy: 0.0733\n",
            "Epoch 17/200\n",
            "15/15 [==============================] - 0s 6ms/step - loss: 4.5747 - accuracy: 0.1035\n",
            "Epoch 18/200\n",
            "15/15 [==============================] - 0s 6ms/step - loss: 4.5221 - accuracy: 0.0896\n",
            "Epoch 19/200\n",
            "15/15 [==============================] - 0s 6ms/step - loss: 4.5053 - accuracy: 0.0822\n",
            "Epoch 20/200\n",
            "15/15 [==============================] - 0s 7ms/step - loss: 4.4708 - accuracy: 0.0989\n",
            "Epoch 21/200\n",
            "15/15 [==============================] - 0s 6ms/step - loss: 4.3320 - accuracy: 0.1264\n",
            "Epoch 22/200\n",
            "15/15 [==============================] - 0s 6ms/step - loss: 4.2651 - accuracy: 0.1438\n",
            "Epoch 23/200\n",
            "15/15 [==============================] - 0s 6ms/step - loss: 4.3184 - accuracy: 0.1206\n",
            "Epoch 24/200\n",
            "15/15 [==============================] - 0s 6ms/step - loss: 4.3034 - accuracy: 0.1157\n",
            "Epoch 25/200\n",
            "15/15 [==============================] - 0s 6ms/step - loss: 4.1728 - accuracy: 0.1377\n",
            "Epoch 26/200\n",
            "15/15 [==============================] - 0s 6ms/step - loss: 4.1831 - accuracy: 0.1166\n",
            "Epoch 27/200\n",
            "15/15 [==============================] - 0s 6ms/step - loss: 4.1820 - accuracy: 0.1193\n",
            "Epoch 28/200\n",
            "15/15 [==============================] - 0s 6ms/step - loss: 4.1324 - accuracy: 0.1345\n",
            "Epoch 29/200\n",
            "15/15 [==============================] - 0s 6ms/step - loss: 4.0827 - accuracy: 0.1256\n",
            "Epoch 30/200\n",
            "15/15 [==============================] - 0s 6ms/step - loss: 4.0323 - accuracy: 0.1508\n",
            "Epoch 31/200\n",
            "15/15 [==============================] - 0s 6ms/step - loss: 4.0570 - accuracy: 0.1167\n",
            "Epoch 32/200\n",
            "15/15 [==============================] - 0s 6ms/step - loss: 4.0477 - accuracy: 0.1214\n",
            "Epoch 33/200\n",
            "15/15 [==============================] - 0s 6ms/step - loss: 3.8723 - accuracy: 0.1509\n",
            "Epoch 34/200\n",
            "15/15 [==============================] - 0s 6ms/step - loss: 3.9325 - accuracy: 0.1484\n",
            "Epoch 35/200\n",
            "15/15 [==============================] - 0s 6ms/step - loss: 3.7839 - accuracy: 0.1666\n",
            "Epoch 36/200\n",
            "15/15 [==============================] - 0s 6ms/step - loss: 3.8658 - accuracy: 0.1438\n",
            "Epoch 37/200\n",
            "15/15 [==============================] - 0s 7ms/step - loss: 3.7297 - accuracy: 0.1861\n",
            "Epoch 38/200\n",
            "15/15 [==============================] - 0s 6ms/step - loss: 3.6702 - accuracy: 0.1984\n",
            "Epoch 39/200\n",
            "15/15 [==============================] - 0s 6ms/step - loss: 3.6963 - accuracy: 0.2083\n",
            "Epoch 40/200\n",
            "15/15 [==============================] - 0s 6ms/step - loss: 3.6836 - accuracy: 0.2084\n",
            "Epoch 41/200\n",
            "15/15 [==============================] - 0s 7ms/step - loss: 3.5980 - accuracy: 0.2290\n",
            "Epoch 42/200\n",
            "15/15 [==============================] - 0s 6ms/step - loss: 3.5371 - accuracy: 0.2287\n",
            "Epoch 43/200\n",
            "15/15 [==============================] - 0s 6ms/step - loss: 3.5604 - accuracy: 0.2201\n",
            "Epoch 44/200\n",
            "15/15 [==============================] - 0s 6ms/step - loss: 3.4755 - accuracy: 0.2243\n",
            "Epoch 45/200\n",
            "15/15 [==============================] - 0s 6ms/step - loss: 3.3695 - accuracy: 0.2826\n",
            "Epoch 46/200\n",
            "15/15 [==============================] - 0s 6ms/step - loss: 3.4302 - accuracy: 0.2729\n",
            "Epoch 47/200\n",
            "15/15 [==============================] - 0s 6ms/step - loss: 3.3857 - accuracy: 0.3057\n",
            "Epoch 48/200\n",
            "15/15 [==============================] - 0s 6ms/step - loss: 3.3734 - accuracy: 0.2840\n",
            "Epoch 49/200\n",
            "15/15 [==============================] - 0s 6ms/step - loss: 3.3529 - accuracy: 0.2923\n",
            "Epoch 50/200\n",
            "15/15 [==============================] - 0s 6ms/step - loss: 3.3127 - accuracy: 0.3310\n",
            "Epoch 51/200\n",
            "15/15 [==============================] - 0s 8ms/step - loss: 3.2570 - accuracy: 0.3447\n",
            "Epoch 52/200\n",
            "15/15 [==============================] - 0s 7ms/step - loss: 3.1614 - accuracy: 0.3599\n",
            "Epoch 53/200\n",
            "15/15 [==============================] - 0s 6ms/step - loss: 3.1709 - accuracy: 0.3693\n",
            "Epoch 54/200\n",
            "15/15 [==============================] - 0s 6ms/step - loss: 3.1732 - accuracy: 0.3426\n",
            "Epoch 55/200\n",
            "15/15 [==============================] - 0s 6ms/step - loss: 3.1461 - accuracy: 0.3320\n",
            "Epoch 56/200\n",
            "15/15 [==============================] - 0s 6ms/step - loss: 3.0762 - accuracy: 0.4037\n",
            "Epoch 57/200\n",
            "15/15 [==============================] - 0s 6ms/step - loss: 2.9848 - accuracy: 0.4268\n",
            "Epoch 58/200\n",
            "15/15 [==============================] - 0s 6ms/step - loss: 2.9845 - accuracy: 0.4136\n",
            "Epoch 59/200\n",
            "15/15 [==============================] - 0s 6ms/step - loss: 2.9394 - accuracy: 0.4102\n",
            "Epoch 60/200\n",
            "15/15 [==============================] - 0s 6ms/step - loss: 2.9043 - accuracy: 0.4021\n",
            "Epoch 61/200\n",
            "15/15 [==============================] - 0s 6ms/step - loss: 2.8004 - accuracy: 0.4680\n",
            "Epoch 62/200\n",
            "15/15 [==============================] - 0s 6ms/step - loss: 2.8688 - accuracy: 0.4063\n",
            "Epoch 63/200\n",
            "15/15 [==============================] - 0s 6ms/step - loss: 2.7757 - accuracy: 0.4457\n",
            "Epoch 64/200\n",
            "15/15 [==============================] - 0s 6ms/step - loss: 2.7777 - accuracy: 0.4155\n",
            "Epoch 65/200\n",
            "15/15 [==============================] - 0s 6ms/step - loss: 2.6527 - accuracy: 0.4975\n",
            "Epoch 66/200\n",
            "15/15 [==============================] - 0s 6ms/step - loss: 2.6389 - accuracy: 0.4618\n",
            "Epoch 67/200\n",
            "15/15 [==============================] - 0s 6ms/step - loss: 2.6710 - accuracy: 0.4854\n",
            "Epoch 68/200\n",
            "15/15 [==============================] - 0s 6ms/step - loss: 2.5870 - accuracy: 0.5030\n",
            "Epoch 69/200\n",
            "15/15 [==============================] - 0s 6ms/step - loss: 2.5473 - accuracy: 0.5284\n",
            "Epoch 70/200\n",
            "15/15 [==============================] - 0s 6ms/step - loss: 2.5632 - accuracy: 0.5001\n",
            "Epoch 71/200\n",
            "15/15 [==============================] - 0s 6ms/step - loss: 2.5351 - accuracy: 0.5412\n",
            "Epoch 72/200\n",
            "15/15 [==============================] - 0s 7ms/step - loss: 2.4755 - accuracy: 0.5381\n",
            "Epoch 73/200\n",
            "15/15 [==============================] - 0s 6ms/step - loss: 2.4665 - accuracy: 0.5367\n",
            "Epoch 74/200\n",
            "15/15 [==============================] - 0s 6ms/step - loss: 2.4063 - accuracy: 0.5249\n",
            "Epoch 75/200\n",
            "15/15 [==============================] - 0s 6ms/step - loss: 2.4044 - accuracy: 0.5278\n",
            "Epoch 76/200\n",
            "15/15 [==============================] - 0s 6ms/step - loss: 2.3595 - accuracy: 0.5724\n",
            "Epoch 77/200\n",
            "15/15 [==============================] - 0s 6ms/step - loss: 2.3143 - accuracy: 0.5637\n",
            "Epoch 78/200\n",
            "15/15 [==============================] - 0s 6ms/step - loss: 2.3051 - accuracy: 0.6070\n",
            "Epoch 79/200\n",
            "15/15 [==============================] - 0s 7ms/step - loss: 2.2568 - accuracy: 0.6100\n",
            "Epoch 80/200\n",
            "15/15 [==============================] - 0s 6ms/step - loss: 2.2021 - accuracy: 0.6312\n",
            "Epoch 81/200\n",
            "15/15 [==============================] - 0s 6ms/step - loss: 2.2466 - accuracy: 0.5995\n",
            "Epoch 82/200\n",
            "15/15 [==============================] - 0s 7ms/step - loss: 2.1675 - accuracy: 0.6389\n",
            "Epoch 83/200\n",
            "15/15 [==============================] - 0s 6ms/step - loss: 2.1650 - accuracy: 0.6757\n",
            "Epoch 84/200\n",
            "15/15 [==============================] - 0s 6ms/step - loss: 2.1193 - accuracy: 0.6681\n",
            "Epoch 85/200\n",
            "15/15 [==============================] - 0s 6ms/step - loss: 2.0315 - accuracy: 0.6625\n",
            "Epoch 86/200\n",
            "15/15 [==============================] - 0s 6ms/step - loss: 2.1508 - accuracy: 0.6384\n",
            "Epoch 87/200\n",
            "15/15 [==============================] - 0s 6ms/step - loss: 2.0630 - accuracy: 0.6848\n",
            "Epoch 88/200\n",
            "15/15 [==============================] - 0s 6ms/step - loss: 2.0511 - accuracy: 0.6646\n",
            "Epoch 89/200\n",
            "15/15 [==============================] - 0s 6ms/step - loss: 2.0275 - accuracy: 0.6752\n",
            "Epoch 90/200\n",
            "15/15 [==============================] - 0s 6ms/step - loss: 2.0201 - accuracy: 0.6724\n",
            "Epoch 91/200\n",
            "15/15 [==============================] - 0s 6ms/step - loss: 1.9524 - accuracy: 0.6682\n",
            "Epoch 92/200\n",
            "15/15 [==============================] - 0s 7ms/step - loss: 1.8477 - accuracy: 0.7112\n",
            "Epoch 93/200\n",
            "15/15 [==============================] - 0s 6ms/step - loss: 1.8780 - accuracy: 0.6881\n",
            "Epoch 94/200\n",
            "15/15 [==============================] - 0s 6ms/step - loss: 1.8837 - accuracy: 0.6936\n",
            "Epoch 95/200\n",
            "15/15 [==============================] - 0s 6ms/step - loss: 1.8333 - accuracy: 0.6925\n",
            "Epoch 96/200\n",
            "15/15 [==============================] - 0s 6ms/step - loss: 1.8380 - accuracy: 0.7239\n",
            "Epoch 97/200\n",
            "15/15 [==============================] - 0s 7ms/step - loss: 1.7722 - accuracy: 0.7431\n",
            "Epoch 98/200\n",
            "15/15 [==============================] - 0s 7ms/step - loss: 1.8580 - accuracy: 0.6930\n",
            "Epoch 99/200\n",
            "15/15 [==============================] - 0s 7ms/step - loss: 1.7815 - accuracy: 0.7172\n",
            "Epoch 100/200\n",
            "15/15 [==============================] - 0s 6ms/step - loss: 1.7257 - accuracy: 0.7405\n",
            "Epoch 101/200\n",
            "15/15 [==============================] - 0s 6ms/step - loss: 1.7042 - accuracy: 0.7439\n",
            "Epoch 102/200\n",
            "15/15 [==============================] - 0s 7ms/step - loss: 1.6456 - accuracy: 0.7712\n",
            "Epoch 103/200\n",
            "15/15 [==============================] - 0s 6ms/step - loss: 1.6166 - accuracy: 0.7472\n",
            "Epoch 104/200\n",
            "15/15 [==============================] - 0s 6ms/step - loss: 1.6716 - accuracy: 0.7432\n",
            "Epoch 105/200\n",
            "15/15 [==============================] - 0s 6ms/step - loss: 1.6246 - accuracy: 0.7478\n",
            "Epoch 106/200\n",
            "15/15 [==============================] - 0s 6ms/step - loss: 1.5715 - accuracy: 0.7754\n",
            "Epoch 107/200\n",
            "15/15 [==============================] - 0s 6ms/step - loss: 1.6394 - accuracy: 0.7254\n",
            "Epoch 108/200\n",
            "15/15 [==============================] - 0s 6ms/step - loss: 1.5755 - accuracy: 0.7543\n",
            "Epoch 109/200\n",
            "15/15 [==============================] - 0s 7ms/step - loss: 1.5230 - accuracy: 0.7789\n",
            "Epoch 110/200\n",
            "15/15 [==============================] - 0s 6ms/step - loss: 1.4983 - accuracy: 0.7894\n",
            "Epoch 111/200\n",
            "15/15 [==============================] - 0s 6ms/step - loss: 1.5014 - accuracy: 0.7999\n",
            "Epoch 112/200\n",
            "15/15 [==============================] - 0s 7ms/step - loss: 1.4860 - accuracy: 0.7750\n",
            "Epoch 113/200\n",
            "15/15 [==============================] - 0s 6ms/step - loss: 1.4711 - accuracy: 0.8020\n",
            "Epoch 114/200\n",
            "15/15 [==============================] - 0s 6ms/step - loss: 1.4201 - accuracy: 0.8209\n",
            "Epoch 115/200\n",
            "15/15 [==============================] - 0s 6ms/step - loss: 1.4251 - accuracy: 0.8126\n",
            "Epoch 116/200\n",
            "15/15 [==============================] - 0s 6ms/step - loss: 1.3913 - accuracy: 0.8220\n",
            "Epoch 117/200\n",
            "15/15 [==============================] - 0s 6ms/step - loss: 1.3254 - accuracy: 0.8502\n",
            "Epoch 118/200\n",
            "15/15 [==============================] - 0s 6ms/step - loss: 1.3623 - accuracy: 0.8174\n",
            "Epoch 119/200\n",
            "15/15 [==============================] - 0s 6ms/step - loss: 1.3555 - accuracy: 0.8009\n",
            "Epoch 120/200\n",
            "15/15 [==============================] - 0s 6ms/step - loss: 1.3261 - accuracy: 0.8308\n",
            "Epoch 121/200\n",
            "15/15 [==============================] - 0s 6ms/step - loss: 1.3312 - accuracy: 0.8152\n",
            "Epoch 122/200\n",
            "15/15 [==============================] - 0s 6ms/step - loss: 1.3280 - accuracy: 0.8407\n",
            "Epoch 123/200\n",
            "15/15 [==============================] - 0s 6ms/step - loss: 1.2957 - accuracy: 0.8382\n",
            "Epoch 124/200\n",
            "15/15 [==============================] - 0s 6ms/step - loss: 1.2761 - accuracy: 0.8273\n",
            "Epoch 125/200\n",
            "15/15 [==============================] - 0s 6ms/step - loss: 1.2621 - accuracy: 0.8509\n",
            "Epoch 126/200\n",
            "15/15 [==============================] - 0s 6ms/step - loss: 1.2572 - accuracy: 0.8548\n",
            "Epoch 127/200\n",
            "15/15 [==============================] - 0s 6ms/step - loss: 1.2885 - accuracy: 0.8130\n",
            "Epoch 128/200\n",
            "15/15 [==============================] - 0s 6ms/step - loss: 1.1919 - accuracy: 0.8662\n",
            "Epoch 129/200\n",
            "15/15 [==============================] - 0s 6ms/step - loss: 1.2313 - accuracy: 0.8421\n",
            "Epoch 130/200\n",
            "15/15 [==============================] - 0s 6ms/step - loss: 1.2696 - accuracy: 0.8402\n",
            "Epoch 131/200\n",
            "15/15 [==============================] - 0s 6ms/step - loss: 1.2574 - accuracy: 0.8395\n",
            "Epoch 132/200\n",
            "15/15 [==============================] - 0s 7ms/step - loss: 1.2483 - accuracy: 0.8358\n",
            "Epoch 133/200\n",
            "15/15 [==============================] - 0s 6ms/step - loss: 1.1575 - accuracy: 0.8599\n",
            "Epoch 134/200\n",
            "15/15 [==============================] - 0s 6ms/step - loss: 1.2100 - accuracy: 0.8542\n",
            "Epoch 135/200\n",
            "15/15 [==============================] - 0s 6ms/step - loss: 1.1357 - accuracy: 0.8664\n",
            "Epoch 136/200\n",
            "15/15 [==============================] - 0s 6ms/step - loss: 1.1415 - accuracy: 0.8589\n",
            "Epoch 137/200\n",
            "15/15 [==============================] - 0s 6ms/step - loss: 1.0935 - accuracy: 0.8587\n",
            "Epoch 138/200\n",
            "15/15 [==============================] - 0s 6ms/step - loss: 1.1037 - accuracy: 0.8653\n",
            "Epoch 139/200\n",
            "15/15 [==============================] - 0s 6ms/step - loss: 1.0827 - accuracy: 0.8640\n",
            "Epoch 140/200\n",
            "15/15 [==============================] - 0s 6ms/step - loss: 1.0415 - accuracy: 0.8772\n",
            "Epoch 141/200\n",
            "15/15 [==============================] - 0s 6ms/step - loss: 1.0148 - accuracy: 0.8808\n",
            "Epoch 142/200\n",
            "15/15 [==============================] - 0s 6ms/step - loss: 1.0067 - accuracy: 0.8843\n",
            "Epoch 143/200\n",
            "15/15 [==============================] - 0s 6ms/step - loss: 0.9840 - accuracy: 0.8829\n",
            "Epoch 144/200\n",
            "15/15 [==============================] - 0s 6ms/step - loss: 0.9962 - accuracy: 0.8695\n",
            "Epoch 145/200\n",
            "15/15 [==============================] - 0s 6ms/step - loss: 1.0457 - accuracy: 0.8608\n",
            "Epoch 146/200\n",
            "15/15 [==============================] - 0s 6ms/step - loss: 0.9458 - accuracy: 0.8991\n",
            "Epoch 147/200\n",
            "15/15 [==============================] - 0s 6ms/step - loss: 0.9369 - accuracy: 0.9052\n",
            "Epoch 148/200\n",
            "15/15 [==============================] - 0s 6ms/step - loss: 0.9810 - accuracy: 0.8758\n",
            "Epoch 149/200\n",
            "15/15 [==============================] - 0s 6ms/step - loss: 0.9969 - accuracy: 0.8612\n",
            "Epoch 150/200\n",
            "15/15 [==============================] - 0s 6ms/step - loss: 0.9783 - accuracy: 0.8876\n",
            "Epoch 151/200\n",
            "15/15 [==============================] - 0s 7ms/step - loss: 0.9299 - accuracy: 0.8862\n",
            "Epoch 152/200\n",
            "15/15 [==============================] - 0s 7ms/step - loss: 0.9142 - accuracy: 0.8973\n",
            "Epoch 153/200\n",
            "15/15 [==============================] - 0s 6ms/step - loss: 0.8918 - accuracy: 0.9031\n",
            "Epoch 154/200\n",
            "15/15 [==============================] - 0s 6ms/step - loss: 0.8328 - accuracy: 0.9133\n",
            "Epoch 155/200\n",
            "15/15 [==============================] - 0s 6ms/step - loss: 0.8953 - accuracy: 0.8915\n",
            "Epoch 156/200\n",
            "15/15 [==============================] - 0s 6ms/step - loss: 0.8221 - accuracy: 0.9295\n",
            "Epoch 157/200\n",
            "15/15 [==============================] - 0s 6ms/step - loss: 0.8384 - accuracy: 0.9149\n",
            "Epoch 158/200\n",
            "15/15 [==============================] - 0s 6ms/step - loss: 0.8296 - accuracy: 0.9156\n",
            "Epoch 159/200\n",
            "15/15 [==============================] - 0s 6ms/step - loss: 0.8635 - accuracy: 0.9084\n",
            "Epoch 160/200\n",
            "15/15 [==============================] - 0s 6ms/step - loss: 0.8251 - accuracy: 0.9114\n",
            "Epoch 161/200\n",
            "15/15 [==============================] - 0s 6ms/step - loss: 0.8151 - accuracy: 0.9167\n",
            "Epoch 162/200\n",
            "15/15 [==============================] - 0s 7ms/step - loss: 0.8074 - accuracy: 0.9112\n",
            "Epoch 163/200\n",
            "15/15 [==============================] - 0s 7ms/step - loss: 0.7896 - accuracy: 0.9183\n",
            "Epoch 164/200\n",
            "15/15 [==============================] - 0s 7ms/step - loss: 0.7692 - accuracy: 0.9105\n",
            "Epoch 165/200\n",
            "15/15 [==============================] - 0s 6ms/step - loss: 0.7598 - accuracy: 0.9219\n",
            "Epoch 166/200\n",
            "15/15 [==============================] - 0s 6ms/step - loss: 0.7603 - accuracy: 0.9238\n",
            "Epoch 167/200\n",
            "15/15 [==============================] - 0s 7ms/step - loss: 0.7536 - accuracy: 0.9334\n",
            "Epoch 168/200\n",
            "15/15 [==============================] - 0s 6ms/step - loss: 0.7511 - accuracy: 0.9235\n",
            "Epoch 169/200\n",
            "15/15 [==============================] - 0s 6ms/step - loss: 0.7618 - accuracy: 0.9126\n",
            "Epoch 170/200\n",
            "15/15 [==============================] - 0s 6ms/step - loss: 0.7168 - accuracy: 0.9292\n",
            "Epoch 171/200\n",
            "15/15 [==============================] - 0s 6ms/step - loss: 0.7440 - accuracy: 0.9240\n",
            "Epoch 172/200\n",
            "15/15 [==============================] - 0s 7ms/step - loss: 0.7272 - accuracy: 0.9206\n",
            "Epoch 173/200\n",
            "15/15 [==============================] - 0s 6ms/step - loss: 0.7652 - accuracy: 0.9022\n",
            "Epoch 174/200\n",
            "15/15 [==============================] - 0s 7ms/step - loss: 0.7639 - accuracy: 0.8946\n",
            "Epoch 175/200\n",
            "15/15 [==============================] - 0s 6ms/step - loss: 0.7648 - accuracy: 0.9017\n",
            "Epoch 176/200\n",
            "15/15 [==============================] - 0s 6ms/step - loss: 0.7066 - accuracy: 0.9028\n",
            "Epoch 177/200\n",
            "15/15 [==============================] - 0s 6ms/step - loss: 0.8065 - accuracy: 0.8990\n",
            "Epoch 178/200\n",
            "15/15 [==============================] - 0s 6ms/step - loss: 0.7436 - accuracy: 0.9009\n",
            "Epoch 179/200\n",
            "15/15 [==============================] - 0s 6ms/step - loss: 0.7943 - accuracy: 0.8823\n",
            "Epoch 180/200\n",
            "15/15 [==============================] - 0s 6ms/step - loss: 0.7287 - accuracy: 0.9089\n",
            "Epoch 181/200\n",
            "15/15 [==============================] - 0s 6ms/step - loss: 0.7837 - accuracy: 0.8849\n",
            "Epoch 182/200\n",
            "15/15 [==============================] - 0s 7ms/step - loss: 0.7297 - accuracy: 0.9029\n",
            "Epoch 183/200\n",
            "15/15 [==============================] - 0s 6ms/step - loss: 0.7274 - accuracy: 0.8935\n",
            "Epoch 184/200\n",
            "15/15 [==============================] - 0s 6ms/step - loss: 0.6984 - accuracy: 0.9076\n",
            "Epoch 185/200\n",
            "15/15 [==============================] - 0s 6ms/step - loss: 0.7121 - accuracy: 0.8938\n",
            "Epoch 186/200\n",
            "15/15 [==============================] - 0s 6ms/step - loss: 0.7485 - accuracy: 0.8857\n",
            "Epoch 187/200\n",
            "15/15 [==============================] - 0s 6ms/step - loss: 0.7051 - accuracy: 0.8953\n",
            "Epoch 188/200\n",
            "15/15 [==============================] - 0s 6ms/step - loss: 0.7690 - accuracy: 0.8766\n",
            "Epoch 189/200\n",
            "15/15 [==============================] - 0s 6ms/step - loss: 0.7028 - accuracy: 0.8951\n",
            "Epoch 190/200\n",
            "15/15 [==============================] - 0s 6ms/step - loss: 0.6297 - accuracy: 0.9242\n",
            "Epoch 191/200\n",
            "15/15 [==============================] - 0s 6ms/step - loss: 0.6348 - accuracy: 0.9345\n",
            "Epoch 192/200\n",
            "15/15 [==============================] - 0s 6ms/step - loss: 0.6173 - accuracy: 0.9320\n",
            "Epoch 193/200\n",
            "15/15 [==============================] - 0s 6ms/step - loss: 0.6315 - accuracy: 0.9081\n",
            "Epoch 194/200\n",
            "15/15 [==============================] - 0s 7ms/step - loss: 0.6162 - accuracy: 0.9261\n",
            "Epoch 195/200\n",
            "15/15 [==============================] - 0s 7ms/step - loss: 0.6199 - accuracy: 0.9226\n",
            "Epoch 196/200\n",
            "15/15 [==============================] - 0s 7ms/step - loss: 0.5893 - accuracy: 0.9299\n",
            "Epoch 197/200\n",
            "15/15 [==============================] - 0s 7ms/step - loss: 0.5727 - accuracy: 0.9200\n",
            "Epoch 198/200\n",
            "15/15 [==============================] - 0s 6ms/step - loss: 0.5486 - accuracy: 0.9313\n",
            "Epoch 199/200\n",
            "15/15 [==============================] - 0s 6ms/step - loss: 0.5746 - accuracy: 0.9162\n",
            "Epoch 200/200\n",
            "15/15 [==============================] - 0s 6ms/step - loss: 0.5425 - accuracy: 0.9210\n"
          ],
          "name": "stdout"
        }
      ]
    },
    {
      "cell_type": "code",
      "metadata": {
        "id": "3YXGelKThoTT"
      },
      "source": [
        "import matplotlib.pyplot as plt\n",
        "\n",
        "\n",
        "def plot_graphs(history, string):\n",
        "  plt.plot(history.history[string])\n",
        "  plt.xlabel(\"Epochs\")\n",
        "  plt.ylabel(string)\n",
        "  plt.show()"
      ],
      "execution_count": 40,
      "outputs": []
    },
    {
      "cell_type": "code",
      "metadata": {
        "id": "poeprYK8h-c7",
        "colab": {
          "base_uri": "https://localhost:8080/",
          "height": 279
        },
        "outputId": "aeaa659b-9295-403f-bd5a-7db04768948e"
      },
      "source": [
        "plot_graphs(history, 'accuracy')\n"
      ],
      "execution_count": 41,
      "outputs": [
        {
          "output_type": "display_data",
          "data": {
            "image/png": "[encoded data removed]",
            "text/plain": [
              "<Figure size 432x288 with 1 Axes>"
            ]
          },
          "metadata": {
            "tags": [],
            "needs_background": "light"
          }
        }
      ]
    },
    {
      "cell_type": "code",
      "metadata": {
        "id": "6Vc6PHgxa6Hm",
        "colab": {
          "base_uri": "https://localhost:8080/"
        },
        "outputId": "f3b9da9f-dc66-45ae-b4ad-c046088d10b9"
      },
      "source": [
        "seed_text = \"Laurence went to dublin\"\n",
        "next_words = 100\n",
        "  \n",
        "for _ in range(next_words):\n",
        "\ttoken_list = tokenizer.texts_to_sequences([seed_text])[0]\n",
        "\ttoken_list = pad_sequences([token_list], maxlen=max_sequence_len-1, padding='pre')\n",
        "\tpredicted = model.predict_classes(token_list, verbose=0)\n",
        "\toutput_word = \"\"\n",
        "\tfor word, index in tokenizer.word_index.items():\n",
        "\t\tif index == predicted:\n",
        "\t\t\toutput_word = word\n",
        "\t\t\tbreak\n",
        "\tseed_text += \" \" + output_word\n",
        "print(seed_text)\n"
      ],
      "execution_count": 49,
      "outputs": [
        {
          "output_type": "stream",
          "text": [
            "/usr/local/lib/python3.7/dist-packages/tensorflow/python/keras/engine/sequential.py:450: UserWarning: `model.predict_classes()` is deprecated and will be removed after 2021-01-01. Please use instead:* `np.argmax(model.predict(x), axis=-1)`,   if your model does multi-class classification   (e.g. if it uses a `softmax` last-layer activation).* `(model.predict(x) > 0.5).astype(\"int32\")`,   if your model does binary classification   (e.g. if it uses a `sigmoid` last-layer activation).\n",
            "  warnings.warn('`model.predict_classes()` is deprecated and '\n"
          ],
          "name": "stderr"
        },
        {
          "output_type": "stream",
          "text": [
            "Laurence went to dublin plenty lanigans ball ball ball wall wall wall wall wall wall suppose wall wall wall wall suppose wall wall wall wall suppose wall wall wall wall suppose wall wall wall wall suppose wall wall wall wall suppose wall wall wall wall suppose wall wall wall wall suppose wall wall wall wall suppose wall wall wall wall suppose wall wall wall wall suppose wall wall wall wall suppose wall wall wall wall suppose wall wall wall wall suppose wall wall wall wall suppose wall wall wall wall suppose wall wall wall wall suppose wall wall wall wall suppose wall wall wall\n"
          ],
          "name": "stdout"
        }
      ]
    },
    {
      "cell_type": "code",
      "metadata": {
        "id": "9DDP1i0Nh7ZV"
      },
      "source": [
        ""
      ],
      "execution_count": null,
      "outputs": []
    }
  ]
}