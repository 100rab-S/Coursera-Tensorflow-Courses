{
  "nbformat": 4,
  "nbformat_minor": 0,
  "metadata": {
    "colab": {
      "name": "Exercise 3 - Question.ipynb",
      "provenance": [],
      "collapsed_sections": [],
      "include_colab_link": true
    },
    "kernelspec": {
      "display_name": "Python 3",
      "name": "python3"
    },
    "accelerator": "GPU"
  },
  "cells": [
    {
      "cell_type": "markdown",
      "metadata": {
        "id": "view-in-github",
        "colab_type": "text"
      },
      "source": [
        "<a href=\"https://colab.research.google.com/github/100rab-S/Coursera-Tensorflow-Courses/blob/main/Exercise_3_Question.ipynb\" target=\"_parent\"><img src=\"https://colab.research.google.com/assets/colab-badge.svg\" alt=\"Open In Colab\"/></a>"
      ]
    },
    {
      "cell_type": "code",
      "metadata": {
        "id": "zX4Kg8DUTKWO"
      },
      "source": [
        "#@title Licensed under the Apache License, Version 2.0 (the \"License\");\n",
        "# you may not use this file except in compliance with the License.\n",
        "# You may obtain a copy of the License at\n",
        "#\n",
        "# https://www.apache.org/licenses/LICENSE-2.0\n",
        "#\n",
        "# Unless required by applicable law or agreed to in writing, software\n",
        "# distributed under the License is distributed on an \"AS IS\" BASIS,\n",
        "# WITHOUT WARRANTIES OR CONDITIONS OF ANY KIND, either express or implied.\n",
        "# See the License for the specific language governing permissions and\n",
        "# limitations under the License."
      ],
      "execution_count": null,
      "outputs": []
    },
    {
      "cell_type": "markdown",
      "metadata": {
        "id": "iQjHqsmTAVLU"
      },
      "source": [
        "## Exercise 3\n",
        "In the videos you looked at how you would improve Fashion MNIST using Convolutions. For your exercise see if you can improve MNIST to 99.8% accuracy or more using only a single convolutional layer and a single MaxPooling 2D. You should stop training once the accuracy goes above this amount. It should happen in less than 20 epochs, so it's ok to hard code the number of epochs for training, but your training must end once it hits the above metric. If it doesn't, then you'll need to redesign your layers.\n",
        "\n",
        "I've started the code for you -- you need to finish it!\n",
        "\n",
        "When 99.8% accuracy has been hit, you should print out the string \"Reached 99.8% accuracy so cancelling training!\"\n"
      ]
    },
    {
      "cell_type": "code",
      "metadata": {
        "colab": {
          "base_uri": "https://localhost:8080/"
        },
        "id": "sfQRyaJWAIdg",
        "outputId": "15a31761-e241-480c-9fa2-5b6e1017c1e0"
      },
      "source": [
        "import tensorflow as tf\n",
        "\n",
        "class myCallback(tf.keras.callbacks.Callback):\n",
        "  def on_epoch_end(self, epoch, logs={}):\n",
        "    if(logs.get('loss')<0.009):\n",
        "      print(\"\\nReached 99.8% accuracy so cancelling training!\")\n",
        "      self.model.stop_training = True\n",
        "\n",
        "callbacks = myCallback()\n",
        "\n",
        "mnist = tf.keras.datasets.mnist\n",
        "(training_images, training_labels), (test_images, test_labels) = mnist.load_data()\n",
        "\n",
        "training_images = training_images/255.0\n",
        "test_images = test_images/255.0\n",
        "\n",
        "training_images = training_images.reshape(60000, 28, 28, 1)\n",
        "test_images = test_images.reshape(10000, 28, 28, 1)\n",
        "\n",
        "model = tf.keras.models.Sequential([\n",
        "                                  tf.keras.layers.Conv2D(128, (3, 3), activation = 'relu', input_shape = (28, 28, 1)),\n",
        "                                  tf.keras.layers.MaxPooling2D(),\n",
        "\n",
        "                                  tf.keras.layers.Conv2D(64, (3,3), activation = 'relu'),\n",
        "                                  tf.keras.layers.MaxPooling2D(),\n",
        "\n",
        "                                  tf.keras.layers.Conv2D(32, (3,3), activation= 'relu'),\n",
        "                                  tf.keras.layers.MaxPooling2D(),\n",
        "\n",
        "                                  tf.keras.layers.Flatten(),\n",
        "                                  tf.keras.layers.Dense(128, activation = 'relu'),\n",
        "                                  tf.keras.layers.Dense(10, activation = 'softmax')  \n",
        "])\n",
        "\n",
        "model.compile(loss = 'sparse_categorical_crossentropy', optimizer = 'adam', metrics = ['accuracy'])\n",
        "model.summary()\n",
        "model.fit(training_images, training_labels, epochs = 20, callbacks = [callbacks])\n",
        "print('==========================================')\n",
        "model_loss = model.evaluate(test_images, test_labels)"
      ],
      "execution_count": null,
      "outputs": [
        {
          "output_type": "stream",
          "text": [
            "Model: \"sequential_1\"\n",
            "_________________________________________________________________\n",
            "Layer (type)                 Output Shape              Param #   \n",
            "=================================================================\n",
            "conv2d_3 (Conv2D)            (None, 26, 26, 128)       1280      \n",
            "_________________________________________________________________\n",
            "max_pooling2d_3 (MaxPooling2 (None, 13, 13, 128)       0         \n",
            "_________________________________________________________________\n",
            "conv2d_4 (Conv2D)            (None, 11, 11, 64)        73792     \n",
            "_________________________________________________________________\n",
            "max_pooling2d_4 (MaxPooling2 (None, 5, 5, 64)          0         \n",
            "_________________________________________________________________\n",
            "conv2d_5 (Conv2D)            (None, 3, 3, 32)          18464     \n",
            "_________________________________________________________________\n",
            "max_pooling2d_5 (MaxPooling2 (None, 1, 1, 32)          0         \n",
            "_________________________________________________________________\n",
            "flatten_1 (Flatten)          (None, 32)                0         \n",
            "_________________________________________________________________\n",
            "dense_2 (Dense)              (None, 128)               4224      \n",
            "_________________________________________________________________\n",
            "dense_3 (Dense)              (None, 10)                1290      \n",
            "=================================================================\n",
            "Total params: 99,050\n",
            "Trainable params: 99,050\n",
            "Non-trainable params: 0\n",
            "_________________________________________________________________\n",
            "Epoch 1/20\n",
            "   6/1875 [..............................] - ETA: 19s - loss: 2.2972 - accuracy: 0.1324  WARNING:tensorflow:Callback method `on_train_batch_end` is slow compared to the batch time (batch time: 0.0047s vs `on_train_batch_end` time: 0.0060s). Check your callbacks.\n",
            "1875/1875 [==============================] - 19s 10ms/step - loss: 0.4704 - accuracy: 0.8452\n",
            "Epoch 2/20\n",
            "1875/1875 [==============================] - 18s 10ms/step - loss: 0.0818 - accuracy: 0.9745\n",
            "Epoch 3/20\n",
            "1875/1875 [==============================] - 18s 10ms/step - loss: 0.0646 - accuracy: 0.9801\n",
            "Epoch 4/20\n",
            "1875/1875 [==============================] - 18s 10ms/step - loss: 0.0461 - accuracy: 0.9862\n",
            "Epoch 5/20\n",
            "1875/1875 [==============================] - 18s 10ms/step - loss: 0.0355 - accuracy: 0.9889\n",
            "Epoch 6/20\n",
            "1875/1875 [==============================] - 18s 10ms/step - loss: 0.0299 - accuracy: 0.9907\n",
            "Epoch 7/20\n",
            "1875/1875 [==============================] - 18s 10ms/step - loss: 0.0229 - accuracy: 0.9927\n",
            "Epoch 8/20\n",
            "1875/1875 [==============================] - 18s 10ms/step - loss: 0.0221 - accuracy: 0.9930\n",
            "Epoch 9/20\n",
            "1875/1875 [==============================] - 18s 10ms/step - loss: 0.0175 - accuracy: 0.9949\n",
            "Epoch 10/20\n",
            "1875/1875 [==============================] - 18s 10ms/step - loss: 0.0179 - accuracy: 0.9944\n",
            "Epoch 11/20\n",
            "1875/1875 [==============================] - 18s 10ms/step - loss: 0.0127 - accuracy: 0.9960\n",
            "Epoch 12/20\n",
            "1875/1875 [==============================] - 18s 9ms/step - loss: 0.0125 - accuracy: 0.9956\n",
            "Epoch 13/20\n",
            "1875/1875 [==============================] - 18s 10ms/step - loss: 0.0116 - accuracy: 0.9961\n",
            "Epoch 14/20\n",
            "1875/1875 [==============================] - 18s 10ms/step - loss: 0.0109 - accuracy: 0.9964\n",
            "Epoch 15/20\n",
            "1875/1875 [==============================] - 18s 10ms/step - loss: 0.0092 - accuracy: 0.9966\n",
            "Epoch 16/20\n",
            "1875/1875 [==============================] - 18s 10ms/step - loss: 0.0084 - accuracy: 0.9969\n",
            "Epoch 17/20\n",
            "1875/1875 [==============================] - 18s 10ms/step - loss: 0.0071 - accuracy: 0.9976\n",
            "Epoch 18/20\n",
            "1875/1875 [==============================] - 18s 9ms/step - loss: 0.0095 - accuracy: 0.9971\n",
            "Epoch 19/20\n",
            "1875/1875 [==============================] - 18s 10ms/step - loss: 0.0064 - accuracy: 0.9979\n",
            "\n",
            "Reached 99.8% accuracy so cancelling training!\n",
            "==========================================\n",
            "313/313 [==============================] - 2s 5ms/step - loss: 0.0812 - accuracy: 0.9839\n"
          ],
          "name": "stdout"
        }
      ]
    },
    {
      "cell_type": "code",
      "metadata": {
        "id": "ld5hfr4LsL7z",
        "colab": {
          "base_uri": "https://localhost:8080/"
        },
        "outputId": "41ab471f-951a-4ab8-fbe0-91c4a2348556"
      },
      "source": [
        "test_images.shape"
      ],
      "execution_count": null,
      "outputs": [
        {
          "output_type": "execute_result",
          "data": {
            "text/plain": [
              "(10000, 28, 28)"
            ]
          },
          "metadata": {
            "tags": []
          },
          "execution_count": 4
        }
      ]
    }
  ]
}